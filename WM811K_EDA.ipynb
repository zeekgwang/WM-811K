{
  "nbformat": 4,
  "nbformat_minor": 0,
  "metadata": {
    "colab": {
      "name": "WM811K_EDA.ipynb",
      "provenance": [],
      "collapsed_sections": [],
      "mount_file_id": "1GqraEprPJW0yuD8ehG0KcFQ5NwDUCeWF",
      "authorship_tag": "ABX9TyO4Drm9R/xCyt5HVfBA0BlJ"
    },
    "kernelspec": {
      "name": "python3",
      "display_name": "Python 3"
    },
    "language_info": {
      "name": "python"
    },
    "accelerator": "GPU"
  },
  "cells": [
    {
      "cell_type": "code",
      "metadata": {
        "id": "niqEj74Q47ZN"
      },
      "source": [
        "import os\n",
        "from os.path import join\n",
        "\n",
        "import numpy as np\n",
        "import pandas as pd\n",
        "\n",
        "from sklearn.model_selection import KFold \n",
        "from sklearn.model_selection import cross_val_score\n",
        "\n",
        "from sklearn.model_selection import train_test_split\n",
        "\n",
        "import matplotlib.pyplot as plt"
      ],
      "execution_count": 28,
      "outputs": []
    },
    {
      "cell_type": "code",
      "metadata": {
        "colab": {
          "base_uri": "https://localhost:8080/"
        },
        "id": "GxggGfxmxK-E",
        "outputId": "e1b97d8d-88dc-47fd-89f7-1af1a53497a1"
      },
      "source": [
        "from google.colab import drive\n",
        "drive.mount('/content/drive')"
      ],
      "execution_count": 29,
      "outputs": [
        {
          "output_type": "stream",
          "name": "stdout",
          "text": [
            "Drive already mounted at /content/drive; to attempt to forcibly remount, call drive.mount(\"/content/drive\", force_remount=True).\n"
          ]
        }
      ]
    },
    {
      "cell_type": "code",
      "metadata": {
        "colab": {
          "base_uri": "https://localhost:8080/"
        },
        "id": "0saPPOTl5BR7",
        "outputId": "9bfcd09f-9ccb-4956-db89-f2f15ffbf50e"
      },
      "source": [
        "data_path = \"./drive/MyDrive/wafer/wm811k/\"\n",
        "print(os.listdir(data_path))"
      ],
      "execution_count": 30,
      "outputs": [
        {
          "output_type": "stream",
          "name": "stdout",
          "text": [
            "['LSWMD.pkl', 'y_3000.npy', 'x_3000.npy', 'y_3500.npy', 'x_3500.npy', 'x_3500_128.npy', 'y_3500_128.npy']\n"
          ]
        }
      ]
    },
    {
      "cell_type": "code",
      "metadata": {
        "colab": {
          "base_uri": "https://localhost:8080/"
        },
        "id": "fBSNs0k16DzQ",
        "outputId": "324c508d-434b-496d-af3b-4a405b7c084f"
      },
      "source": [
        "df = pd.read_pickle(data_path + \"LSWMD.pkl\")\n",
        "df.info()"
      ],
      "execution_count": 31,
      "outputs": [
        {
          "output_type": "stream",
          "name": "stdout",
          "text": [
            "<class 'pandas.core.frame.DataFrame'>\n",
            "RangeIndex: 811457 entries, 0 to 811456\n",
            "Data columns (total 6 columns):\n",
            " #   Column          Non-Null Count   Dtype  \n",
            "---  ------          --------------   -----  \n",
            " 0   waferMap        811457 non-null  object \n",
            " 1   dieSize         811457 non-null  float64\n",
            " 2   lotName         811457 non-null  object \n",
            " 3   waferIndex      811457 non-null  float64\n",
            " 4   trianTestLabel  811457 non-null  object \n",
            " 5   failureType     811457 non-null  object \n",
            "dtypes: float64(2), object(4)\n",
            "memory usage: 37.1+ MB\n"
          ]
        }
      ]
    },
    {
      "cell_type": "code",
      "metadata": {
        "colab": {
          "base_uri": "https://localhost:8080/",
          "height": 206
        },
        "id": "cA_f27rU6xah",
        "outputId": "ae9f29bb-c5df-4bfa-b132-9436633a0a19"
      },
      "source": [
        "df.head()"
      ],
      "execution_count": 32,
      "outputs": [
        {
          "output_type": "execute_result",
          "data": {
            "text/html": [
              "<div>\n",
              "<style scoped>\n",
              "    .dataframe tbody tr th:only-of-type {\n",
              "        vertical-align: middle;\n",
              "    }\n",
              "\n",
              "    .dataframe tbody tr th {\n",
              "        vertical-align: top;\n",
              "    }\n",
              "\n",
              "    .dataframe thead th {\n",
              "        text-align: right;\n",
              "    }\n",
              "</style>\n",
              "<table border=\"1\" class=\"dataframe\">\n",
              "  <thead>\n",
              "    <tr style=\"text-align: right;\">\n",
              "      <th></th>\n",
              "      <th>waferMap</th>\n",
              "      <th>dieSize</th>\n",
              "      <th>lotName</th>\n",
              "      <th>waferIndex</th>\n",
              "      <th>trianTestLabel</th>\n",
              "      <th>failureType</th>\n",
              "    </tr>\n",
              "  </thead>\n",
              "  <tbody>\n",
              "    <tr>\n",
              "      <th>0</th>\n",
              "      <td>[[0, 0, 0, 0, 0, 0, 0, 0, 0, 0, 0, 0, 0, 0, 0,...</td>\n",
              "      <td>1683.0</td>\n",
              "      <td>lot1</td>\n",
              "      <td>1.0</td>\n",
              "      <td>[[Training]]</td>\n",
              "      <td>[[none]]</td>\n",
              "    </tr>\n",
              "    <tr>\n",
              "      <th>1</th>\n",
              "      <td>[[0, 0, 0, 0, 0, 0, 0, 0, 0, 0, 0, 0, 0, 0, 0,...</td>\n",
              "      <td>1683.0</td>\n",
              "      <td>lot1</td>\n",
              "      <td>2.0</td>\n",
              "      <td>[[Training]]</td>\n",
              "      <td>[[none]]</td>\n",
              "    </tr>\n",
              "    <tr>\n",
              "      <th>2</th>\n",
              "      <td>[[0, 0, 0, 0, 0, 0, 0, 0, 0, 0, 0, 0, 0, 0, 0,...</td>\n",
              "      <td>1683.0</td>\n",
              "      <td>lot1</td>\n",
              "      <td>3.0</td>\n",
              "      <td>[[Training]]</td>\n",
              "      <td>[[none]]</td>\n",
              "    </tr>\n",
              "    <tr>\n",
              "      <th>3</th>\n",
              "      <td>[[0, 0, 0, 0, 0, 0, 0, 0, 0, 0, 0, 0, 0, 0, 0,...</td>\n",
              "      <td>1683.0</td>\n",
              "      <td>lot1</td>\n",
              "      <td>4.0</td>\n",
              "      <td>[[Training]]</td>\n",
              "      <td>[[none]]</td>\n",
              "    </tr>\n",
              "    <tr>\n",
              "      <th>4</th>\n",
              "      <td>[[0, 0, 0, 0, 0, 0, 0, 0, 0, 0, 0, 0, 0, 0, 0,...</td>\n",
              "      <td>1683.0</td>\n",
              "      <td>lot1</td>\n",
              "      <td>5.0</td>\n",
              "      <td>[[Training]]</td>\n",
              "      <td>[[none]]</td>\n",
              "    </tr>\n",
              "  </tbody>\n",
              "</table>\n",
              "</div>"
            ],
            "text/plain": [
              "                                            waferMap  ...  failureType\n",
              "0  [[0, 0, 0, 0, 0, 0, 0, 0, 0, 0, 0, 0, 0, 0, 0,...  ...     [[none]]\n",
              "1  [[0, 0, 0, 0, 0, 0, 0, 0, 0, 0, 0, 0, 0, 0, 0,...  ...     [[none]]\n",
              "2  [[0, 0, 0, 0, 0, 0, 0, 0, 0, 0, 0, 0, 0, 0, 0,...  ...     [[none]]\n",
              "3  [[0, 0, 0, 0, 0, 0, 0, 0, 0, 0, 0, 0, 0, 0, 0,...  ...     [[none]]\n",
              "4  [[0, 0, 0, 0, 0, 0, 0, 0, 0, 0, 0, 0, 0, 0, 0,...  ...     [[none]]\n",
              "\n",
              "[5 rows x 6 columns]"
            ]
          },
          "metadata": {},
          "execution_count": 32
        }
      ]
    },
    {
      "cell_type": "code",
      "metadata": {
        "colab": {
          "base_uri": "https://localhost:8080/",
          "height": 206
        },
        "id": "4LgQQnsv7NLI",
        "outputId": "48ecaa1e-1200-4d63-8b4b-5de6f918ceb1"
      },
      "source": [
        "df.tail()"
      ],
      "execution_count": 33,
      "outputs": [
        {
          "output_type": "execute_result",
          "data": {
            "text/html": [
              "<div>\n",
              "<style scoped>\n",
              "    .dataframe tbody tr th:only-of-type {\n",
              "        vertical-align: middle;\n",
              "    }\n",
              "\n",
              "    .dataframe tbody tr th {\n",
              "        vertical-align: top;\n",
              "    }\n",
              "\n",
              "    .dataframe thead th {\n",
              "        text-align: right;\n",
              "    }\n",
              "</style>\n",
              "<table border=\"1\" class=\"dataframe\">\n",
              "  <thead>\n",
              "    <tr style=\"text-align: right;\">\n",
              "      <th></th>\n",
              "      <th>waferMap</th>\n",
              "      <th>dieSize</th>\n",
              "      <th>lotName</th>\n",
              "      <th>waferIndex</th>\n",
              "      <th>trianTestLabel</th>\n",
              "      <th>failureType</th>\n",
              "    </tr>\n",
              "  </thead>\n",
              "  <tbody>\n",
              "    <tr>\n",
              "      <th>811452</th>\n",
              "      <td>[[0, 0, 0, 0, 0, 0, 0, 0, 0, 0, 0, 1, 2, 1, 1,...</td>\n",
              "      <td>600.0</td>\n",
              "      <td>lot47542</td>\n",
              "      <td>23.0</td>\n",
              "      <td>[[Test]]</td>\n",
              "      <td>[[Edge-Ring]]</td>\n",
              "    </tr>\n",
              "    <tr>\n",
              "      <th>811453</th>\n",
              "      <td>[[0, 0, 0, 0, 0, 0, 0, 0, 0, 0, 0, 2, 2, 1, 1,...</td>\n",
              "      <td>600.0</td>\n",
              "      <td>lot47542</td>\n",
              "      <td>24.0</td>\n",
              "      <td>[[Test]]</td>\n",
              "      <td>[[Edge-Loc]]</td>\n",
              "    </tr>\n",
              "    <tr>\n",
              "      <th>811454</th>\n",
              "      <td>[[0, 0, 0, 0, 0, 0, 0, 0, 0, 0, 0, 1, 2, 1, 1,...</td>\n",
              "      <td>600.0</td>\n",
              "      <td>lot47542</td>\n",
              "      <td>25.0</td>\n",
              "      <td>[[Test]]</td>\n",
              "      <td>[[Edge-Ring]]</td>\n",
              "    </tr>\n",
              "    <tr>\n",
              "      <th>811455</th>\n",
              "      <td>[[0, 0, 0, 0, 0, 0, 0, 0, 0, 0, 0, 1, 1, 1, 1,...</td>\n",
              "      <td>600.0</td>\n",
              "      <td>lot47543</td>\n",
              "      <td>1.0</td>\n",
              "      <td>[]</td>\n",
              "      <td>[]</td>\n",
              "    </tr>\n",
              "    <tr>\n",
              "      <th>811456</th>\n",
              "      <td>[[0, 0, 0, 0, 0, 0, 0, 0, 0, 0, 0, 1, 2, 1, 1,...</td>\n",
              "      <td>600.0</td>\n",
              "      <td>lot47543</td>\n",
              "      <td>2.0</td>\n",
              "      <td>[]</td>\n",
              "      <td>[]</td>\n",
              "    </tr>\n",
              "  </tbody>\n",
              "</table>\n",
              "</div>"
            ],
            "text/plain": [
              "                                                 waferMap  ...    failureType\n",
              "811452  [[0, 0, 0, 0, 0, 0, 0, 0, 0, 0, 0, 1, 2, 1, 1,...  ...  [[Edge-Ring]]\n",
              "811453  [[0, 0, 0, 0, 0, 0, 0, 0, 0, 0, 0, 2, 2, 1, 1,...  ...   [[Edge-Loc]]\n",
              "811454  [[0, 0, 0, 0, 0, 0, 0, 0, 0, 0, 0, 1, 2, 1, 1,...  ...  [[Edge-Ring]]\n",
              "811455  [[0, 0, 0, 0, 0, 0, 0, 0, 0, 0, 0, 1, 1, 1, 1,...  ...             []\n",
              "811456  [[0, 0, 0, 0, 0, 0, 0, 0, 0, 0, 0, 1, 2, 1, 1,...  ...             []\n",
              "\n",
              "[5 rows x 6 columns]"
            ]
          },
          "metadata": {},
          "execution_count": 33
        }
      ]
    },
    {
      "cell_type": "code",
      "metadata": {
        "colab": {
          "base_uri": "https://localhost:8080/",
          "height": 295
        },
        "id": "T6vXHcqg7PVR",
        "outputId": "0152c8d0-406d-41af-fc27-54a46d8eac32"
      },
      "source": [
        "wafer_cnt_dist = df.groupby(\"lotName\").count()['waferMap'].value_counts().sort_index()\n",
        "\n",
        "plt.bar(wafer_cnt_dist.index, wafer_cnt_dist.values)\n",
        "plt.title(\"wafer count distribution\")\n",
        "plt.xlabel(\"count #\")\n",
        "plt.ylabel(\"frequency\")\n",
        "plt.show()"
      ],
      "execution_count": 34,
      "outputs": [
        {
          "output_type": "display_data",
          "data": {
            "image/png": "[encoded data removed]",
            "text/plain": [
              "<Figure size 432x288 with 1 Axes>"
            ]
          },
          "metadata": {
            "needs_background": "light"
          }
        }
      ]
    },
    {
      "cell_type": "code",
      "metadata": {
        "colab": {
          "base_uri": "https://localhost:8080/",
          "height": 295
        },
        "id": "2tbZPpo57cpc",
        "outputId": "042698d1-78c2-43e7-9278-1459cdd67d08"
      },
      "source": [
        "wafer_index_dist = np.unique(df.waferIndex, return_counts=True)\n",
        "\n",
        "plt.bar(wafer_index_dist[0], wafer_index_dist[1])\n",
        "plt.title('wafer index distribution')\n",
        "plt.xlabel(\"index #\")\n",
        "plt.ylabel(\"frequency\")\n",
        "plt.ylim(30000, 34000)\n",
        "plt.show()"
      ],
      "execution_count": 35,
      "outputs": [
        {
          "output_type": "display_data",
          "data": {
            "image/png": "[encoded data removed]",
            "text/plain": [
              "<Figure size 432x288 with 1 Axes>"
            ]
          },
          "metadata": {
            "needs_background": "light"
          }
        }
      ]
    },
    {
      "cell_type": "code",
      "metadata": {
        "colab": {
          "base_uri": "https://localhost:8080/",
          "height": 363
        },
        "id": "9csiFEbv7lWm",
        "outputId": "463afc85-b5f1-40df-8359-b95875eef569"
      },
      "source": [
        "def fine_dim(map):\n",
        "  return np.size(map, axis = 0), np.size(map, axis = 1)\n",
        "\n",
        "df['waferMapDim'] = df.waferMap.apply(fine_dim)\n",
        "df.sample(10)"
      ],
      "execution_count": 36,
      "outputs": [
        {
          "output_type": "execute_result",
          "data": {
            "text/html": [
              "<div>\n",
              "<style scoped>\n",
              "    .dataframe tbody tr th:only-of-type {\n",
              "        vertical-align: middle;\n",
              "    }\n",
              "\n",
              "    .dataframe tbody tr th {\n",
              "        vertical-align: top;\n",
              "    }\n",
              "\n",
              "    .dataframe thead th {\n",
              "        text-align: right;\n",
              "    }\n",
              "</style>\n",
              "<table border=\"1\" class=\"dataframe\">\n",
              "  <thead>\n",
              "    <tr style=\"text-align: right;\">\n",
              "      <th></th>\n",
              "      <th>waferMap</th>\n",
              "      <th>dieSize</th>\n",
              "      <th>lotName</th>\n",
              "      <th>waferIndex</th>\n",
              "      <th>trianTestLabel</th>\n",
              "      <th>failureType</th>\n",
              "      <th>waferMapDim</th>\n",
              "    </tr>\n",
              "  </thead>\n",
              "  <tbody>\n",
              "    <tr>\n",
              "      <th>416401</th>\n",
              "      <td>[[0, 0, 0, 0, 0, 0, 0, 0, 0, 0, 0, 0, 0, 0, 0,...</td>\n",
              "      <td>2367.0</td>\n",
              "      <td>lot24805</td>\n",
              "      <td>4.0</td>\n",
              "      <td>[]</td>\n",
              "      <td>[]</td>\n",
              "      <td>(51, 59)</td>\n",
              "    </tr>\n",
              "    <tr>\n",
              "      <th>766968</th>\n",
              "      <td>[[0, 0, 0, 0, 0, 0, 0, 0, 0, 0, 0, 0, 0, 0, 0,...</td>\n",
              "      <td>1376.0</td>\n",
              "      <td>lot45731</td>\n",
              "      <td>23.0</td>\n",
              "      <td>[[Test]]</td>\n",
              "      <td>[[none]]</td>\n",
              "      <td>(44, 41)</td>\n",
              "    </tr>\n",
              "    <tr>\n",
              "      <th>134321</th>\n",
              "      <td>[[0, 0, 0, 0, 0, 0, 0, 0, 0, 0, 0, 0, 0, 1, 1,...</td>\n",
              "      <td>811.0</td>\n",
              "      <td>lot8803</td>\n",
              "      <td>6.0</td>\n",
              "      <td>[]</td>\n",
              "      <td>[]</td>\n",
              "      <td>(34, 31)</td>\n",
              "    </tr>\n",
              "    <tr>\n",
              "      <th>765507</th>\n",
              "      <td>[[0, 0, 0, 0, 0, 0, 0, 0, 0, 0, 0, 0, 0, 0, 0,...</td>\n",
              "      <td>1791.0</td>\n",
              "      <td>lot45673</td>\n",
              "      <td>10.0</td>\n",
              "      <td>[[Training]]</td>\n",
              "      <td>[[none]]</td>\n",
              "      <td>(48, 48)</td>\n",
              "    </tr>\n",
              "    <tr>\n",
              "      <th>152942</th>\n",
              "      <td>[[0, 0, 0, 0, 0, 0, 0, 0, 0, 0, 0, 0, 0, 0, 0,...</td>\n",
              "      <td>3532.0</td>\n",
              "      <td>lot9921</td>\n",
              "      <td>21.0</td>\n",
              "      <td>[]</td>\n",
              "      <td>[]</td>\n",
              "      <td>(64, 71)</td>\n",
              "    </tr>\n",
              "    <tr>\n",
              "      <th>666979</th>\n",
              "      <td>[[0, 0, 0, 0, 0, 0, 0, 0, 0, 0, 0, 0, 1, 1, 2,...</td>\n",
              "      <td>712.0</td>\n",
              "      <td>lot41525</td>\n",
              "      <td>23.0</td>\n",
              "      <td>[]</td>\n",
              "      <td>[]</td>\n",
              "      <td>(32, 29)</td>\n",
              "    </tr>\n",
              "    <tr>\n",
              "      <th>232836</th>\n",
              "      <td>[[0, 0, 0, 0, 0, 0, 0, 0, 0, 0, 0, 0, 0, 0, 0,...</td>\n",
              "      <td>7810.0</td>\n",
              "      <td>lot14574</td>\n",
              "      <td>8.0</td>\n",
              "      <td>[]</td>\n",
              "      <td>[]</td>\n",
              "      <td>(89, 112)</td>\n",
              "    </tr>\n",
              "    <tr>\n",
              "      <th>466310</th>\n",
              "      <td>[[0, 0, 0, 0, 0, 0, 0, 0, 0, 0, 0, 0, 1, 1, 1,...</td>\n",
              "      <td>712.0</td>\n",
              "      <td>lot28679</td>\n",
              "      <td>19.0</td>\n",
              "      <td>[]</td>\n",
              "      <td>[]</td>\n",
              "      <td>(32, 29)</td>\n",
              "    </tr>\n",
              "    <tr>\n",
              "      <th>804220</th>\n",
              "      <td>[[0, 0, 0, 0, 0, 0, 0, 0, 0, 0, 0, 0, 0, 0, 1,...</td>\n",
              "      <td>895.0</td>\n",
              "      <td>lot47247</td>\n",
              "      <td>20.0</td>\n",
              "      <td>[[Test]]</td>\n",
              "      <td>[[none]]</td>\n",
              "      <td>(33, 35)</td>\n",
              "    </tr>\n",
              "    <tr>\n",
              "      <th>736928</th>\n",
              "      <td>[[0, 0, 0, 0, 0, 0, 0, 0, 0, 0, 0, 0, 1, 1, 2,...</td>\n",
              "      <td>741.0</td>\n",
              "      <td>lot44517</td>\n",
              "      <td>2.0</td>\n",
              "      <td>[[Test]]</td>\n",
              "      <td>[[none]]</td>\n",
              "      <td>(33, 29)</td>\n",
              "    </tr>\n",
              "  </tbody>\n",
              "</table>\n",
              "</div>"
            ],
            "text/plain": [
              "                                                 waferMap  ...  waferMapDim\n",
              "416401  [[0, 0, 0, 0, 0, 0, 0, 0, 0, 0, 0, 0, 0, 0, 0,...  ...     (51, 59)\n",
              "766968  [[0, 0, 0, 0, 0, 0, 0, 0, 0, 0, 0, 0, 0, 0, 0,...  ...     (44, 41)\n",
              "134321  [[0, 0, 0, 0, 0, 0, 0, 0, 0, 0, 0, 0, 0, 1, 1,...  ...     (34, 31)\n",
              "765507  [[0, 0, 0, 0, 0, 0, 0, 0, 0, 0, 0, 0, 0, 0, 0,...  ...     (48, 48)\n",
              "152942  [[0, 0, 0, 0, 0, 0, 0, 0, 0, 0, 0, 0, 0, 0, 0,...  ...     (64, 71)\n",
              "666979  [[0, 0, 0, 0, 0, 0, 0, 0, 0, 0, 0, 0, 1, 1, 2,...  ...     (32, 29)\n",
              "232836  [[0, 0, 0, 0, 0, 0, 0, 0, 0, 0, 0, 0, 0, 0, 0,...  ...    (89, 112)\n",
              "466310  [[0, 0, 0, 0, 0, 0, 0, 0, 0, 0, 0, 0, 1, 1, 1,...  ...     (32, 29)\n",
              "804220  [[0, 0, 0, 0, 0, 0, 0, 0, 0, 0, 0, 0, 0, 0, 1,...  ...     (33, 35)\n",
              "736928  [[0, 0, 0, 0, 0, 0, 0, 0, 0, 0, 0, 0, 1, 1, 2,...  ...     (33, 29)\n",
              "\n",
              "[10 rows x 7 columns]"
            ]
          },
          "metadata": {},
          "execution_count": 36
        }
      ]
    },
    {
      "cell_type": "code",
      "metadata": {
        "colab": {
          "base_uri": "https://localhost:8080/"
        },
        "id": "w2GUKue__zcn",
        "outputId": "0a0dcb63-4ea9-47f3-f7ca-498f3b691223"
      },
      "source": [
        "wafer_dim_dist = np.unique(df.waferMapDim, return_counts=True)\n",
        "len(wafer_dim_dist[0])"
      ],
      "execution_count": 37,
      "outputs": [
        {
          "output_type": "execute_result",
          "data": {
            "text/plain": [
              "632"
            ]
          },
          "metadata": {},
          "execution_count": 37
        }
      ]
    },
    {
      "cell_type": "code",
      "metadata": {
        "colab": {
          "base_uri": "https://localhost:8080/"
        },
        "id": "9BAak0PHAlHT",
        "outputId": "b505e25a-3d7a-425d-af1e-115bea031a77"
      },
      "source": [
        "df.groupby('waferMapDim').count()['waferMap'].sort_values().tail(20)"
      ],
      "execution_count": 38,
      "outputs": [
        {
          "output_type": "execute_result",
          "data": {
            "text/plain": [
              "waferMapDim\n",
              "(51, 59)      7890\n",
              "(34, 31)      8155\n",
              "(44, 44)      8601\n",
              "(38, 38)      8895\n",
              "(35, 40)     10676\n",
              "(31, 28)     10788\n",
              "(64, 71)     11692\n",
              "(27, 25)     12655\n",
              "(29, 26)     13247\n",
              "(39, 31)     13562\n",
              "(31, 31)     14569\n",
              "(52, 59)     14812\n",
              "(39, 37)     15327\n",
              "(33, 29)     20276\n",
              "(33, 33)     23886\n",
              "(30, 34)     29513\n",
              "(26, 26)     30078\n",
              "(49, 39)     39323\n",
              "(25, 27)     64083\n",
              "(32, 29)    108687\n",
              "Name: waferMap, dtype: int64"
            ]
          },
          "metadata": {},
          "execution_count": 38
        }
      ]
    },
    {
      "cell_type": "code",
      "metadata": {
        "id": "G7oob0d9_flL"
      },
      "source": [
        "def fTypeConvertor(fType):\n",
        "  if len(fType) == 0:\n",
        "    return None\n",
        "  if fType[0][0] == 'none':\n",
        "    return None\n",
        "  return fType[0][0]"
      ],
      "execution_count": 39,
      "outputs": []
    },
    {
      "cell_type": "code",
      "metadata": {
        "id": "GxxjlpWhAAdn"
      },
      "source": [
        "df['fType'] = df['failureType'].apply(fTypeConvertor)"
      ],
      "execution_count": 40,
      "outputs": []
    },
    {
      "cell_type": "code",
      "metadata": {
        "colab": {
          "base_uri": "https://localhost:8080/"
        },
        "id": "Iw8aTWotJISf",
        "outputId": "a4b50b42-0253-4d5a-f69d-712ac2f79f7a"
      },
      "source": [
        "df.groupby('fType')['failureType'].count()"
      ],
      "execution_count": 41,
      "outputs": [
        {
          "output_type": "execute_result",
          "data": {
            "text/plain": [
              "fType\n",
              "Center       4294\n",
              "Donut         555\n",
              "Edge-Loc     5189\n",
              "Edge-Ring    9680\n",
              "Loc          3593\n",
              "Near-full     149\n",
              "Random        866\n",
              "Scratch      1193\n",
              "Name: failureType, dtype: int64"
            ]
          },
          "metadata": {},
          "execution_count": 41
        }
      ]
    },
    {
      "cell_type": "code",
      "metadata": {
        "colab": {
          "base_uri": "https://localhost:8080/"
        },
        "id": "4CZLNoOD_T_N",
        "outputId": "4214f174-f082-4796-c052-3d5d649b084d"
      },
      "source": [
        "df[df['fType'] == 'Scratch'].groupby('waferMapDim').count()['waferMap'].sort_values().tail(20)"
      ],
      "execution_count": 42,
      "outputs": [
        {
          "output_type": "execute_result",
          "data": {
            "text/plain": [
              "waferMapDim\n",
              "(33, 37)      14\n",
              "(51, 30)      15\n",
              "(72, 72)      17\n",
              "(41, 38)      18\n",
              "(38, 38)      22\n",
              "(25, 27)      23\n",
              "(35, 31)      26\n",
              "(49, 39)      28\n",
              "(26, 30)      29\n",
              "(116, 146)    32\n",
              "(50, 43)      32\n",
              "(42, 44)      39\n",
              "(41, 33)      44\n",
              "(33, 29)      47\n",
              "(44, 41)      48\n",
              "(52, 59)      54\n",
              "(39, 37)      60\n",
              "(30, 34)      69\n",
              "(26, 26)      72\n",
              "(29, 26)      80\n",
              "Name: waferMap, dtype: int64"
            ]
          },
          "metadata": {},
          "execution_count": 42
        }
      ]
    },
    {
      "cell_type": "code",
      "metadata": {
        "colab": {
          "base_uri": "https://localhost:8080/"
        },
        "id": "a8PV1boXHrUl",
        "outputId": "b0fa6c86-bc2e-4ff3-dbad-d56c54f633bd"
      },
      "source": [
        "df[df['fType'] == 'Loc'].groupby('waferMapDim').count()['waferMap'].sort_values().tail(20)"
      ],
      "execution_count": 43,
      "outputs": [
        {
          "output_type": "execute_result",
          "data": {
            "text/plain": [
              "waferMapDim\n",
              "(42, 44)     42\n",
              "(45, 43)     47\n",
              "(26, 30)     48\n",
              "(52, 59)     57\n",
              "(25, 26)     63\n",
              "(41, 33)     70\n",
              "(41, 42)     80\n",
              "(32, 29)     90\n",
              "(34, 34)     91\n",
              "(44, 41)    101\n",
              "(35, 40)    101\n",
              "(27, 25)    104\n",
              "(33, 29)    107\n",
              "(29, 26)    117\n",
              "(25, 27)    172\n",
              "(39, 31)    182\n",
              "(39, 37)    222\n",
              "(30, 34)    241\n",
              "(35, 31)    246\n",
              "(26, 26)    297\n",
              "Name: waferMap, dtype: int64"
            ]
          },
          "metadata": {},
          "execution_count": 43
        }
      ]
    },
    {
      "cell_type": "code",
      "metadata": {
        "colab": {
          "base_uri": "https://localhost:8080/"
        },
        "id": "qAE11fB5Jhub",
        "outputId": "58778ad4-9812-43bf-8330-b1018fd88656"
      },
      "source": [
        "df[df['fType'] == 'Edge-Loc'].groupby('waferMapDim').count()['waferMap'].sort_values().tail(20)"
      ],
      "execution_count": 44,
      "outputs": [
        {
          "output_type": "execute_result",
          "data": {
            "text/plain": [
              "waferMapDim\n",
              "(25, 26)     58\n",
              "(45, 42)     67\n",
              "(42, 44)     82\n",
              "(35, 40)     82\n",
              "(51, 59)     87\n",
              "(27, 25)     96\n",
              "(41, 33)    130\n",
              "(33, 29)    130\n",
              "(33, 33)    132\n",
              "(26, 30)    153\n",
              "(39, 31)    154\n",
              "(56, 41)    189\n",
              "(32, 29)    190\n",
              "(35, 31)    207\n",
              "(29, 26)    233\n",
              "(26, 26)    296\n",
              "(30, 34)    306\n",
              "(25, 27)    355\n",
              "(44, 41)    390\n",
              "(39, 37)    473\n",
              "Name: waferMap, dtype: int64"
            ]
          },
          "metadata": {},
          "execution_count": 44
        }
      ]
    },
    {
      "cell_type": "code",
      "metadata": {
        "colab": {
          "base_uri": "https://localhost:8080/"
        },
        "id": "0bbl-mzOJh1n",
        "outputId": "f75a8a27-dc5d-478b-daf1-ef586f102510"
      },
      "source": [
        "df[df['fType'] == 'Center'].groupby('waferMapDim').count()['waferMap'].sort_values().tail(20)"
      ],
      "execution_count": 45,
      "outputs": [
        {
          "output_type": "execute_result",
          "data": {
            "text/plain": [
              "waferMapDim\n",
              "(25, 26)        28\n",
              "(101, 103)      29\n",
              "(64, 71)        33\n",
              "(52, 59)        33\n",
              "(32, 29)        39\n",
              "(41, 33)        41\n",
              "(41, 42)        45\n",
              "(29, 26)        50\n",
              "(35, 31)        53\n",
              "(30, 34)        58\n",
              "(35, 40)        60\n",
              "(39, 31)        61\n",
              "(39, 50)        63\n",
              "(39, 46)        66\n",
              "(26, 26)        90\n",
              "(31, 31)       172\n",
              "(40, 40)       173\n",
              "(39, 37)       173\n",
              "(34, 34)       246\n",
              "(25, 27)      2251\n",
              "Name: waferMap, dtype: int64"
            ]
          },
          "metadata": {},
          "execution_count": 45
        }
      ]
    },
    {
      "cell_type": "code",
      "metadata": {
        "colab": {
          "base_uri": "https://localhost:8080/"
        },
        "id": "H5BprKJTJh94",
        "outputId": "072ea8d8-73ef-4c85-aa17-c8d0f58de8b0"
      },
      "source": [
        "df[df['fType'] == 'Donut'].groupby('waferMapDim').count()['waferMap'].sort_values().tail(20)"
      ],
      "execution_count": 46,
      "outputs": [
        {
          "output_type": "execute_result",
          "data": {
            "text/plain": [
              "waferMapDim\n",
              "(30, 30)      3\n",
              "(37, 31)      4\n",
              "(30, 34)      4\n",
              "(54, 42)      5\n",
              "(51, 44)      5\n",
              "(49, 39)      5\n",
              "(27, 25)      6\n",
              "(32, 29)      6\n",
              "(56, 41)      7\n",
              "(37, 55)      8\n",
              "(45, 43)      8\n",
              "(57, 58)      9\n",
              "(59, 67)     11\n",
              "(44, 41)     12\n",
              "(54, 71)     17\n",
              "(39, 37)     22\n",
              "(45, 50)     23\n",
              "(35, 40)     33\n",
              "(35, 31)     98\n",
              "(41, 42)    234\n",
              "Name: waferMap, dtype: int64"
            ]
          },
          "metadata": {},
          "execution_count": 46
        }
      ]
    },
    {
      "cell_type": "code",
      "metadata": {
        "colab": {
          "base_uri": "https://localhost:8080/"
        },
        "id": "JIXoDvLPM4gh",
        "outputId": "2f9e564d-9578-4a8f-c967-a6b98642607c"
      },
      "source": [
        "df[df['fType'] == 'Edge-Ring'].groupby('waferMapDim').count()['waferMap'].sort_values().tail(20)"
      ],
      "execution_count": 47,
      "outputs": [
        {
          "output_type": "execute_result",
          "data": {
            "text/plain": [
              "waferMapDim\n",
              "(29, 26)        64\n",
              "(57, 55)        66\n",
              "(56, 62)        68\n",
              "(53, 66)        75\n",
              "(25, 26)        78\n",
              "(38, 38)        86\n",
              "(100, 72)       94\n",
              "(73, 78)       100\n",
              "(26, 30)       119\n",
              "(60, 59)       124\n",
              "(55, 48)       135\n",
              "(48, 52)       249\n",
              "(41, 41)       351\n",
              "(43, 42)       374\n",
              "(46, 46)       443\n",
              "(107, 150)     463\n",
              "(69, 73)       483\n",
              "(63, 62)      1420\n",
              "(53, 52)      1519\n",
              "(38, 36)      2123\n",
              "Name: waferMap, dtype: int64"
            ]
          },
          "metadata": {},
          "execution_count": 47
        }
      ]
    },
    {
      "cell_type": "code",
      "metadata": {
        "id": "aYSjFaKy_y_1",
        "colab": {
          "base_uri": "https://localhost:8080/",
          "height": 181
        },
        "outputId": "5193fb49-ead2-4ceb-8e3c-99e3b293692b"
      },
      "source": [
        "fig = plt.figure()\n",
        "\n",
        "ax0 = fig.add_subplot(1,3,1)\n",
        "ax1 = fig.add_subplot(1,3,2)\n",
        "ax2 = fig.add_subplot(1,3,3)\n",
        "\n",
        "ax0.imshow(df[df['fType'] == 'Edge-Ring'].reset_index().loc[0]['waferMap'])\n",
        "ax0.set_title('Edge-Ring')\n",
        "ax1.imshow(df[df['fType'] == 'Donut'].reset_index().loc[0]['waferMap'])\n",
        "ax1.set_title('Donut')\n",
        "ax2.imshow(df[df['fType'] == 'Center'].reset_index().loc[0]['waferMap'])\n",
        "ax2.set_title('Center')"
      ],
      "execution_count": 74,
      "outputs": [
        {
          "output_type": "execute_result",
          "data": {
            "text/plain": [
              "Text(0.5, 1.0, 'Center')"
            ]
          },
          "metadata": {},
          "execution_count": 74
        },
        {
          "output_type": "display_data",
          "data": {
            "image/png": "[encoded data removed]",
            "text/plain": [
              "<Figure size 432x288 with 3 Axes>"
            ]
          },
          "metadata": {
            "needs_background": "light"
          }
        }
      ]
    }
  ]
}