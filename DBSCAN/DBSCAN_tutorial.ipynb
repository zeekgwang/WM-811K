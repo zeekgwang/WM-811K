{
  "nbformat": 4,
  "nbformat_minor": 0,
  "metadata": {
    "colab": {
      "name": "WM-811K-DBSCAN.ipynb",
      "provenance": [],
      "mount_file_id": "17UntKzDOHN0uv0m6bhvC0zn9jZdZOjOY",
      "authorship_tag": "ABX9TyNjv4IT3eB/M48xyF7HumD1"
    },
    "kernelspec": {
      "name": "python3",
      "display_name": "Python 3"
    },
    "language_info": {
      "name": "python"
    }
  },
  "cells": [
    {
      "cell_type": "markdown",
      "metadata": {
        "id": "UX-JQLO1lAwv"
      },
      "source": [
        "[링크 텍스트](https://)<h1>Data load"
      ]
    },
    {
      "cell_type": "code",
      "metadata": {
        "id": "pHOufWxnVu3D"
      },
      "source": [
        "import os\n",
        "from os.path import join\n",
        "\n",
        "import numpy as np\n",
        "import pandas as pd\n",
        "\n",
        "import matplotlib.pyplot as plt\n",
        "\n",
        "from tqdm import tqdm"
      ],
      "execution_count": 1,
      "outputs": []
    },
    {
      "cell_type": "code",
      "metadata": {
        "colab": {
          "base_uri": "https://localhost:8080/"
        },
        "id": "0QdC4cd3WL-5",
        "outputId": "238e3ef9-ed52-4772-d898-af112ece7335"
      },
      "source": [
        "data_path = \"./drive/MyDrive/wafer/wm811k/\"\n",
        "print(os.listdir(data_path))"
      ],
      "execution_count": 2,
      "outputs": [
        {
          "output_type": "stream",
          "name": "stdout",
          "text": [
            "['LSWMD.pkl', 'y_3000.npy', 'x_3000.npy', 'y_3500.npy', 'x_3500.npy', 'x_3500_128.npy', 'y_3500_128.npy']\n"
          ]
        }
      ]
    },
    {
      "cell_type": "code",
      "metadata": {
        "id": "TR34CuegWMiV"
      },
      "source": [
        "x_3500 = np.load(data_path + \"x_3500.npy\")"
      ],
      "execution_count": 8,
      "outputs": []
    },
    {
      "cell_type": "markdown",
      "metadata": {
        "id": "uJwvcziTkV6D"
      },
      "source": [
        "<h1>DBSCAN"
      ]
    },
    {
      "cell_type": "code",
      "metadata": {
        "id": "uS1Uf4iTdaFF"
      },
      "source": [
        "from sklearn.cluster import DBSCAN"
      ],
      "execution_count": 9,
      "outputs": []
    },
    {
      "cell_type": "code",
      "metadata": {
        "colab": {
          "base_uri": "https://localhost:8080/"
        },
        "id": "IoEIiz_EEhrw",
        "outputId": "35d825c4-1c53-4fec-a1be-84d3ac751358"
      },
      "source": [
        "x_3500.shape"
      ],
      "execution_count": 10,
      "outputs": [
        {
          "output_type": "execute_result",
          "data": {
            "text/plain": [
              "(3500, 3, 28, 28)"
            ]
          },
          "metadata": {},
          "execution_count": 10
        }
      ]
    },
    {
      "cell_type": "code",
      "metadata": {
        "id": "JDHhvts3XQlD"
      },
      "source": [
        "points = np.zeros((28 * 28 , 2))\n",
        "p = 0;\n",
        "\n",
        "label_idx = 0\n",
        "\n",
        "for i in range(28):\n",
        "  for j in range(28):\n",
        "    if x_3500[label_idx][2][i][j] == 1:\n",
        "      points[p][0] = i\n",
        "      points[p][1] = j\n",
        "      p += 1\n",
        "\n",
        "points = points[:p]\n",
        "# points"
      ],
      "execution_count": 31,
      "outputs": []
    },
    {
      "cell_type": "code",
      "metadata": {
        "id": "XMcJuFd8dkrw"
      },
      "source": [
        "db = DBSCAN(eps=2, min_samples=4).fit(points)"
      ],
      "execution_count": 51,
      "outputs": []
    },
    {
      "cell_type": "markdown",
      "metadata": {
        "id": "MIJQQ_RXkgig"
      },
      "source": [
        "eps가 2이고, min_samples가 4의 의미\n",
        "\n",
        "= 거리가 2인 점들이 4개이상 있으면 군집의 하나로 친다. "
      ]
    },
    {
      "cell_type": "code",
      "metadata": {
        "colab": {
          "base_uri": "https://localhost:8080/"
        },
        "id": "t2iFRndIduSn",
        "outputId": "2e754783-64ce-43cd-fcaa-0ee630b83752"
      },
      "source": [
        "db.labels_"
      ],
      "execution_count": 52,
      "outputs": [
        {
          "output_type": "execute_result",
          "data": {
            "text/plain": [
              "array([-1, -1, -1, -1,  0, -1,  0,  0, -1, -1,  0, -1, -1, -1, -1, -1, -1,\n",
              "       -1, -1, -1, -1, -1, -1, -1, -1, -1, -1, -1, -1,  1,  1,  1,  1,  1,\n",
              "        1, -1, -1, -1,  1,  1,  1,  1,  1, -1,  1,  1, -1,  1,  1,  1, -1,\n",
              "       -1, -1, -1, -1, -1,  2, -1, -1,  2,  2, -1, -1, -1, -1,  2,  2, -1,\n",
              "       -1, -1, -1, -1, -1, -1,  3, -1,  4,  3, -1,  3,  3, -1,  4,  4,  4])"
            ]
          },
          "metadata": {},
          "execution_count": 52
        }
      ]
    },
    {
      "cell_type": "code",
      "metadata": {
        "id": "lCRJIO_7d_2T"
      },
      "source": [
        "img = np.zeros((28, 28))\n",
        "\n",
        "for (i, j), l in zip(points, db.labels_):\n",
        "  img[int(i),int(j)] = (l + 2)"
      ],
      "execution_count": 53,
      "outputs": []
    },
    {
      "cell_type": "code",
      "metadata": {
        "colab": {
          "base_uri": "https://localhost:8080/",
          "height": 284
        },
        "id": "bu1aNcJklNFI",
        "outputId": "c5e07173-ae1c-476a-a20f-bb32b31628d4"
      },
      "source": [
        "plt.imshow(np.transpose(x_3500[label_idx][2]))"
      ],
      "execution_count": 54,
      "outputs": [
        {
          "output_type": "execute_result",
          "data": {
            "text/plain": [
              "<matplotlib.image.AxesImage at 0x7f74b0b86610>"
            ]
          },
          "metadata": {},
          "execution_count": 54
        },
        {
          "output_type": "display_data",
          "data": {
            "image/png": "[encoded data removed]",
            "text/plain": [
              "<Figure size 432x288 with 1 Axes>"
            ]
          },
          "metadata": {
            "needs_background": "light"
          }
        }
      ]
    },
    {
      "cell_type": "code",
      "metadata": {
        "colab": {
          "base_uri": "https://localhost:8080/",
          "height": 284
        },
        "id": "uWAXI061eml4",
        "outputId": "b6529111-2bad-4ab1-efc5-2c9d4da38522"
      },
      "source": [
        "plt.imshow(img)"
      ],
      "execution_count": 55,
      "outputs": [
        {
          "output_type": "execute_result",
          "data": {
            "text/plain": [
              "<matplotlib.image.AxesImage at 0x7f74b0aed390>"
            ]
          },
          "metadata": {},
          "execution_count": 55
        },
        {
          "output_type": "display_data",
          "data": {
            "image/png": "[encoded data removed]",
            "text/plain": [
              "<Figure size 432x288 with 1 Axes>"
            ]
          },
          "metadata": {
            "needs_background": "light"
          }
        }
      ]
    },
    {
      "cell_type": "code",
      "metadata": {
        "id": "dHzeU0zWjs2u"
      },
      "source": [
        ""
      ],
      "execution_count": 55,
      "outputs": []
    }
  ]
}