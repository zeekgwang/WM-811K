{
  "nbformat": 4,
  "nbformat_minor": 0,
  "metadata": {
    "colab": {
      "name": "WM811K_Dataset.ipynb",
      "provenance": [],
      "collapsed_sections": [],
      "mount_file_id": "1r4JNsjHMvx_WwyjY-dfOHuTuca7hcKiH",
      "authorship_tag": "ABX9TyP6/yQl5uw2LtxXDkTkSUE8"
    },
    "kernelspec": {
      "name": "python3",
      "display_name": "Python 3"
    },
    "language_info": {
      "name": "python"
    },
    "accelerator": "GPU"
  },
  "cells": [
    {
      "cell_type": "code",
      "metadata": {
        "id": "niqEj74Q47ZN"
      },
      "source": [
        "import os\n",
        "from os.path import join\n",
        "\n",
        "import numpy as np\n",
        "import pandas as pd\n",
        "\n",
        "import matplotlib.pyplot as plt"
      ],
      "execution_count": 1,
      "outputs": []
    },
    {
      "cell_type": "code",
      "metadata": {
        "colab": {
          "base_uri": "https://localhost:8080/"
        },
        "id": "0saPPOTl5BR7",
        "outputId": "0959dc76-385c-4e12-fba9-27dc3a3ccf19"
      },
      "source": [
        "data_path = \"./drive/MyDrive/wafer/wm811k/\"\n",
        "print(os.listdir(data_path))"
      ],
      "execution_count": 2,
      "outputs": [
        {
          "output_type": "stream",
          "name": "stdout",
          "text": [
            "['LSWMD.pkl', 'y_3000.npy', 'x_3000.npy', 'y_3500.npy', 'x_3500.npy', 'x_3500_128.npy', 'y_3500_128.npy']\n"
          ]
        }
      ]
    },
    {
      "cell_type": "code",
      "metadata": {
        "colab": {
          "base_uri": "https://localhost:8080/"
        },
        "id": "fBSNs0k16DzQ",
        "outputId": "79b90fc3-ecd8-42a9-ec78-f3c8a3f7ac5a"
      },
      "source": [
        "df = pd.read_pickle(data_path + \"LSWMD.pkl\")\n",
        "df.info()"
      ],
      "execution_count": 3,
      "outputs": [
        {
          "output_type": "stream",
          "name": "stdout",
          "text": [
            "<class 'pandas.core.frame.DataFrame'>\n",
            "RangeIndex: 811457 entries, 0 to 811456\n",
            "Data columns (total 6 columns):\n",
            " #   Column          Non-Null Count   Dtype  \n",
            "---  ------          --------------   -----  \n",
            " 0   waferMap        811457 non-null  object \n",
            " 1   dieSize         811457 non-null  float64\n",
            " 2   lotName         811457 non-null  object \n",
            " 3   waferIndex      811457 non-null  float64\n",
            " 4   trianTestLabel  811457 non-null  object \n",
            " 5   failureType     811457 non-null  object \n",
            "dtypes: float64(2), object(4)\n",
            "memory usage: 37.1+ MB\n"
          ]
        }
      ]
    },
    {
      "cell_type": "code",
      "metadata": {
        "colab": {
          "base_uri": "https://localhost:8080/",
          "height": 206
        },
        "id": "cA_f27rU6xah",
        "outputId": "8fb3caa5-66e7-421f-c600-d5b68a3c5542"
      },
      "source": [
        "df.head()"
      ],
      "execution_count": 4,
      "outputs": [
        {
          "output_type": "execute_result",
          "data": {
            "text/html": [
              "<div>\n",
              "<style scoped>\n",
              "    .dataframe tbody tr th:only-of-type {\n",
              "        vertical-align: middle;\n",
              "    }\n",
              "\n",
              "    .dataframe tbody tr th {\n",
              "        vertical-align: top;\n",
              "    }\n",
              "\n",
              "    .dataframe thead th {\n",
              "        text-align: right;\n",
              "    }\n",
              "</style>\n",
              "<table border=\"1\" class=\"dataframe\">\n",
              "  <thead>\n",
              "    <tr style=\"text-align: right;\">\n",
              "      <th></th>\n",
              "      <th>waferMap</th>\n",
              "      <th>dieSize</th>\n",
              "      <th>lotName</th>\n",
              "      <th>waferIndex</th>\n",
              "      <th>trianTestLabel</th>\n",
              "      <th>failureType</th>\n",
              "    </tr>\n",
              "  </thead>\n",
              "  <tbody>\n",
              "    <tr>\n",
              "      <th>0</th>\n",
              "      <td>[[0, 0, 0, 0, 0, 0, 0, 0, 0, 0, 0, 0, 0, 0, 0,...</td>\n",
              "      <td>1683.0</td>\n",
              "      <td>lot1</td>\n",
              "      <td>1.0</td>\n",
              "      <td>[[Training]]</td>\n",
              "      <td>[[none]]</td>\n",
              "    </tr>\n",
              "    <tr>\n",
              "      <th>1</th>\n",
              "      <td>[[0, 0, 0, 0, 0, 0, 0, 0, 0, 0, 0, 0, 0, 0, 0,...</td>\n",
              "      <td>1683.0</td>\n",
              "      <td>lot1</td>\n",
              "      <td>2.0</td>\n",
              "      <td>[[Training]]</td>\n",
              "      <td>[[none]]</td>\n",
              "    </tr>\n",
              "    <tr>\n",
              "      <th>2</th>\n",
              "      <td>[[0, 0, 0, 0, 0, 0, 0, 0, 0, 0, 0, 0, 0, 0, 0,...</td>\n",
              "      <td>1683.0</td>\n",
              "      <td>lot1</td>\n",
              "      <td>3.0</td>\n",
              "      <td>[[Training]]</td>\n",
              "      <td>[[none]]</td>\n",
              "    </tr>\n",
              "    <tr>\n",
              "      <th>3</th>\n",
              "      <td>[[0, 0, 0, 0, 0, 0, 0, 0, 0, 0, 0, 0, 0, 0, 0,...</td>\n",
              "      <td>1683.0</td>\n",
              "      <td>lot1</td>\n",
              "      <td>4.0</td>\n",
              "      <td>[[Training]]</td>\n",
              "      <td>[[none]]</td>\n",
              "    </tr>\n",
              "    <tr>\n",
              "      <th>4</th>\n",
              "      <td>[[0, 0, 0, 0, 0, 0, 0, 0, 0, 0, 0, 0, 0, 0, 0,...</td>\n",
              "      <td>1683.0</td>\n",
              "      <td>lot1</td>\n",
              "      <td>5.0</td>\n",
              "      <td>[[Training]]</td>\n",
              "      <td>[[none]]</td>\n",
              "    </tr>\n",
              "  </tbody>\n",
              "</table>\n",
              "</div>"
            ],
            "text/plain": [
              "                                            waferMap  ...  failureType\n",
              "0  [[0, 0, 0, 0, 0, 0, 0, 0, 0, 0, 0, 0, 0, 0, 0,...  ...     [[none]]\n",
              "1  [[0, 0, 0, 0, 0, 0, 0, 0, 0, 0, 0, 0, 0, 0, 0,...  ...     [[none]]\n",
              "2  [[0, 0, 0, 0, 0, 0, 0, 0, 0, 0, 0, 0, 0, 0, 0,...  ...     [[none]]\n",
              "3  [[0, 0, 0, 0, 0, 0, 0, 0, 0, 0, 0, 0, 0, 0, 0,...  ...     [[none]]\n",
              "4  [[0, 0, 0, 0, 0, 0, 0, 0, 0, 0, 0, 0, 0, 0, 0,...  ...     [[none]]\n",
              "\n",
              "[5 rows x 6 columns]"
            ]
          },
          "metadata": {},
          "execution_count": 4
        }
      ]
    },
    {
      "cell_type": "code",
      "metadata": {
        "id": "G7oob0d9_flL"
      },
      "source": [
        "def fTypeConvertor(fType):\n",
        "  if len(fType) == 0:\n",
        "    return None\n",
        "  if fType[0][0] == 'none':\n",
        "    return None\n",
        "  return fType[0][0]"
      ],
      "execution_count": 5,
      "outputs": []
    },
    {
      "cell_type": "code",
      "metadata": {
        "id": "GxxjlpWhAAdn",
        "colab": {
          "base_uri": "https://localhost:8080/",
          "height": 206
        },
        "outputId": "ceb0b617-46c6-4fcb-923e-34808104839c"
      },
      "source": [
        "df['fType'] = df['failureType'].apply(fTypeConvertor)\n",
        "df.head()"
      ],
      "execution_count": 6,
      "outputs": [
        {
          "output_type": "execute_result",
          "data": {
            "text/html": [
              "<div>\n",
              "<style scoped>\n",
              "    .dataframe tbody tr th:only-of-type {\n",
              "        vertical-align: middle;\n",
              "    }\n",
              "\n",
              "    .dataframe tbody tr th {\n",
              "        vertical-align: top;\n",
              "    }\n",
              "\n",
              "    .dataframe thead th {\n",
              "        text-align: right;\n",
              "    }\n",
              "</style>\n",
              "<table border=\"1\" class=\"dataframe\">\n",
              "  <thead>\n",
              "    <tr style=\"text-align: right;\">\n",
              "      <th></th>\n",
              "      <th>waferMap</th>\n",
              "      <th>dieSize</th>\n",
              "      <th>lotName</th>\n",
              "      <th>waferIndex</th>\n",
              "      <th>trianTestLabel</th>\n",
              "      <th>failureType</th>\n",
              "      <th>fType</th>\n",
              "    </tr>\n",
              "  </thead>\n",
              "  <tbody>\n",
              "    <tr>\n",
              "      <th>0</th>\n",
              "      <td>[[0, 0, 0, 0, 0, 0, 0, 0, 0, 0, 0, 0, 0, 0, 0,...</td>\n",
              "      <td>1683.0</td>\n",
              "      <td>lot1</td>\n",
              "      <td>1.0</td>\n",
              "      <td>[[Training]]</td>\n",
              "      <td>[[none]]</td>\n",
              "      <td>None</td>\n",
              "    </tr>\n",
              "    <tr>\n",
              "      <th>1</th>\n",
              "      <td>[[0, 0, 0, 0, 0, 0, 0, 0, 0, 0, 0, 0, 0, 0, 0,...</td>\n",
              "      <td>1683.0</td>\n",
              "      <td>lot1</td>\n",
              "      <td>2.0</td>\n",
              "      <td>[[Training]]</td>\n",
              "      <td>[[none]]</td>\n",
              "      <td>None</td>\n",
              "    </tr>\n",
              "    <tr>\n",
              "      <th>2</th>\n",
              "      <td>[[0, 0, 0, 0, 0, 0, 0, 0, 0, 0, 0, 0, 0, 0, 0,...</td>\n",
              "      <td>1683.0</td>\n",
              "      <td>lot1</td>\n",
              "      <td>3.0</td>\n",
              "      <td>[[Training]]</td>\n",
              "      <td>[[none]]</td>\n",
              "      <td>None</td>\n",
              "    </tr>\n",
              "    <tr>\n",
              "      <th>3</th>\n",
              "      <td>[[0, 0, 0, 0, 0, 0, 0, 0, 0, 0, 0, 0, 0, 0, 0,...</td>\n",
              "      <td>1683.0</td>\n",
              "      <td>lot1</td>\n",
              "      <td>4.0</td>\n",
              "      <td>[[Training]]</td>\n",
              "      <td>[[none]]</td>\n",
              "      <td>None</td>\n",
              "    </tr>\n",
              "    <tr>\n",
              "      <th>4</th>\n",
              "      <td>[[0, 0, 0, 0, 0, 0, 0, 0, 0, 0, 0, 0, 0, 0, 0,...</td>\n",
              "      <td>1683.0</td>\n",
              "      <td>lot1</td>\n",
              "      <td>5.0</td>\n",
              "      <td>[[Training]]</td>\n",
              "      <td>[[none]]</td>\n",
              "      <td>None</td>\n",
              "    </tr>\n",
              "  </tbody>\n",
              "</table>\n",
              "</div>"
            ],
            "text/plain": [
              "                                            waferMap  dieSize  ... failureType  fType\n",
              "0  [[0, 0, 0, 0, 0, 0, 0, 0, 0, 0, 0, 0, 0, 0, 0,...   1683.0  ...    [[none]]   None\n",
              "1  [[0, 0, 0, 0, 0, 0, 0, 0, 0, 0, 0, 0, 0, 0, 0,...   1683.0  ...    [[none]]   None\n",
              "2  [[0, 0, 0, 0, 0, 0, 0, 0, 0, 0, 0, 0, 0, 0, 0,...   1683.0  ...    [[none]]   None\n",
              "3  [[0, 0, 0, 0, 0, 0, 0, 0, 0, 0, 0, 0, 0, 0, 0,...   1683.0  ...    [[none]]   None\n",
              "4  [[0, 0, 0, 0, 0, 0, 0, 0, 0, 0, 0, 0, 0, 0, 0,...   1683.0  ...    [[none]]   None\n",
              "\n",
              "[5 rows x 7 columns]"
            ]
          },
          "metadata": {},
          "execution_count": 6
        }
      ]
    },
    {
      "cell_type": "code",
      "metadata": {
        "colab": {
          "base_uri": "https://localhost:8080/",
          "height": 331
        },
        "id": "Iw8aTWotJISf",
        "outputId": "ea842dda-1eef-401a-d515-d6011ff2a2b5"
      },
      "source": [
        "df.groupby('fType').count()"
      ],
      "execution_count": 7,
      "outputs": [
        {
          "output_type": "execute_result",
          "data": {
            "text/html": [
              "<div>\n",
              "<style scoped>\n",
              "    .dataframe tbody tr th:only-of-type {\n",
              "        vertical-align: middle;\n",
              "    }\n",
              "\n",
              "    .dataframe tbody tr th {\n",
              "        vertical-align: top;\n",
              "    }\n",
              "\n",
              "    .dataframe thead th {\n",
              "        text-align: right;\n",
              "    }\n",
              "</style>\n",
              "<table border=\"1\" class=\"dataframe\">\n",
              "  <thead>\n",
              "    <tr style=\"text-align: right;\">\n",
              "      <th></th>\n",
              "      <th>waferMap</th>\n",
              "      <th>dieSize</th>\n",
              "      <th>lotName</th>\n",
              "      <th>waferIndex</th>\n",
              "      <th>trianTestLabel</th>\n",
              "      <th>failureType</th>\n",
              "    </tr>\n",
              "    <tr>\n",
              "      <th>fType</th>\n",
              "      <th></th>\n",
              "      <th></th>\n",
              "      <th></th>\n",
              "      <th></th>\n",
              "      <th></th>\n",
              "      <th></th>\n",
              "    </tr>\n",
              "  </thead>\n",
              "  <tbody>\n",
              "    <tr>\n",
              "      <th>Center</th>\n",
              "      <td>4294</td>\n",
              "      <td>4294</td>\n",
              "      <td>4294</td>\n",
              "      <td>4294</td>\n",
              "      <td>4294</td>\n",
              "      <td>4294</td>\n",
              "    </tr>\n",
              "    <tr>\n",
              "      <th>Donut</th>\n",
              "      <td>555</td>\n",
              "      <td>555</td>\n",
              "      <td>555</td>\n",
              "      <td>555</td>\n",
              "      <td>555</td>\n",
              "      <td>555</td>\n",
              "    </tr>\n",
              "    <tr>\n",
              "      <th>Edge-Loc</th>\n",
              "      <td>5189</td>\n",
              "      <td>5189</td>\n",
              "      <td>5189</td>\n",
              "      <td>5189</td>\n",
              "      <td>5189</td>\n",
              "      <td>5189</td>\n",
              "    </tr>\n",
              "    <tr>\n",
              "      <th>Edge-Ring</th>\n",
              "      <td>9680</td>\n",
              "      <td>9680</td>\n",
              "      <td>9680</td>\n",
              "      <td>9680</td>\n",
              "      <td>9680</td>\n",
              "      <td>9680</td>\n",
              "    </tr>\n",
              "    <tr>\n",
              "      <th>Loc</th>\n",
              "      <td>3593</td>\n",
              "      <td>3593</td>\n",
              "      <td>3593</td>\n",
              "      <td>3593</td>\n",
              "      <td>3593</td>\n",
              "      <td>3593</td>\n",
              "    </tr>\n",
              "    <tr>\n",
              "      <th>Near-full</th>\n",
              "      <td>149</td>\n",
              "      <td>149</td>\n",
              "      <td>149</td>\n",
              "      <td>149</td>\n",
              "      <td>149</td>\n",
              "      <td>149</td>\n",
              "    </tr>\n",
              "    <tr>\n",
              "      <th>Random</th>\n",
              "      <td>866</td>\n",
              "      <td>866</td>\n",
              "      <td>866</td>\n",
              "      <td>866</td>\n",
              "      <td>866</td>\n",
              "      <td>866</td>\n",
              "    </tr>\n",
              "    <tr>\n",
              "      <th>Scratch</th>\n",
              "      <td>1193</td>\n",
              "      <td>1193</td>\n",
              "      <td>1193</td>\n",
              "      <td>1193</td>\n",
              "      <td>1193</td>\n",
              "      <td>1193</td>\n",
              "    </tr>\n",
              "  </tbody>\n",
              "</table>\n",
              "</div>"
            ],
            "text/plain": [
              "           waferMap  dieSize  lotName  waferIndex  trianTestLabel  failureType\n",
              "fType                                                                         \n",
              "Center         4294     4294     4294        4294            4294         4294\n",
              "Donut           555      555      555         555             555          555\n",
              "Edge-Loc       5189     5189     5189        5189            5189         5189\n",
              "Edge-Ring      9680     9680     9680        9680            9680         9680\n",
              "Loc            3593     3593     3593        3593            3593         3593\n",
              "Near-full       149      149      149         149             149          149\n",
              "Random          866      866      866         866             866          866\n",
              "Scratch        1193     1193     1193        1193            1193         1193"
            ]
          },
          "metadata": {},
          "execution_count": 7
        }
      ]
    },
    {
      "cell_type": "code",
      "metadata": {
        "id": "uAxnbwGVfWgZ"
      },
      "source": [
        "df = df[df['fType'] != None]"
      ],
      "execution_count": 8,
      "outputs": []
    },
    {
      "cell_type": "markdown",
      "metadata": {
        "id": "2IyIf_o19cDw"
      },
      "source": [
        "<h1>Data Set</h1>"
      ]
    },
    {
      "cell_type": "code",
      "metadata": {
        "id": "hJYigJg60zhD"
      },
      "source": [
        "import cv2\n",
        "from tqdm import tqdm\n",
        "\n",
        "np.random.seed(0)"
      ],
      "execution_count": 9,
      "outputs": []
    },
    {
      "cell_type": "code",
      "metadata": {
        "id": "tJKd-U0vPff8"
      },
      "source": [
        "mapping_label = {'Center' : 0,\n",
        "                     'Donut' : 1,\n",
        "                     'Edge-Loc': 2,\n",
        "                     'Edge-Ring':3,\n",
        "                     'Loc':4,\n",
        "                     'Random':5,\n",
        "                     'Scratch': 6}"
      ],
      "execution_count": 10,
      "outputs": []
    },
    {
      "cell_type": "code",
      "metadata": {
        "id": "hsnmkEZehDNG"
      },
      "source": [
        "def preprocessing(df, label, ratio, image_size, max_num):\n",
        "  sub_df = df[df['fType'] == label]\n",
        "  \n",
        "  max_inputs = 1100\n",
        "  \n",
        "  resized_img = np.ones((max_inputs, image_size, image_size))\n",
        "  inputs = np.zeros((max_inputs, 3, image_size, image_size))\n",
        "  labels = np.zeros((max_inputs, 7))\n",
        "  class_idx = mapping_label[label]\n",
        "  labels[:, class_idx] = 1\n",
        "\n",
        "  num_inputs = 0\n",
        "\n",
        "  for i in tqdm(range(len(sub_df))):\n",
        "      height = len(sub_df.iloc[i,:]['waferMap'])\n",
        "      width = len(sub_df.iloc[i,:]['waferMap'][0])\n",
        "      if height / width < 1 + ratio and height / width > 1 - ratio:\n",
        "        resized_img[num_inputs] = cv2.resize(sub_df.iloc[i,:]['waferMap'], dsize=(image_size, image_size), interpolation=cv2.INTER_CUBIC).reshape(1, image_size, image_size)\n",
        "        num_inputs += 1\n",
        "\n",
        "  for w in range(num_inputs):\n",
        "    for i in range(image_size):\n",
        "      for j in range(image_size):\n",
        "        if int(resized_img[w, i, j]) >= 3:\n",
        "          inputs[w, 2, i, j] = 1\n",
        "        else:\n",
        "          inputs[w, int(resized_img[w, i, j]), i, j] = 1\n",
        "\n",
        "  x = inputs[:num_inputs]\n",
        "  y = labels[:num_inputs]\n",
        "\n",
        "  print(f\"length : {len(x)}\")\n",
        "\n",
        "  if(len(x) > max_num):\n",
        "    sample = np.random.choice(len(x), max_num)\n",
        "    x = x[sample]\n",
        "    y = y[sample]\n",
        "  else:\n",
        "    print(\"please use bigger threshold ratio\")\n",
        "\n",
        "  del resized_img\n",
        "  del inputs\n",
        "  del labels\n",
        "\n",
        "  return x, y"
      ],
      "execution_count": 11,
      "outputs": []
    },
    {
      "cell_type": "code",
      "metadata": {
        "id": "kADjRG65Bgay"
      },
      "source": [
        "IMAGE_SIZE = 128\n",
        "MAX_NUM = 500"
      ],
      "execution_count": 12,
      "outputs": []
    },
    {
      "cell_type": "code",
      "metadata": {
        "id": "N1uibBTyRYvE",
        "colab": {
          "base_uri": "https://localhost:8080/"
        },
        "outputId": "f2bd8b6c-b7ba-4909-9fad-c2883707b64d"
      },
      "source": [
        "x_center, y_center = preprocessing(df, \"Center\", 0.001, IMAGE_SIZE, MAX_NUM)\n",
        "x_edge_loc, y_edge_loc = preprocessing(df, \"Edge-Loc\", 0.001, IMAGE_SIZE, MAX_NUM)\n",
        "x_loc, y_loc = preprocessing(df, \"Loc\", 0.001, IMAGE_SIZE, MAX_NUM)\n",
        "x_scratch, y_scratch = preprocessing(df, \"Scratch\", 0.08, IMAGE_SIZE, MAX_NUM)\n",
        "x_donut, y_donut = preprocessing(df, \"Donut\", 0.17, IMAGE_SIZE, MAX_NUM)\n",
        "x_edge_ring, y_edge_ring = preprocessing(df, \"Edge-Ring\", 0.001, IMAGE_SIZE, MAX_NUM)\n",
        "x_random, y_random = preprocessing(df, \"Random\", 0.08, IMAGE_SIZE, MAX_NUM)"
      ],
      "execution_count": 13,
      "outputs": [
        {
          "output_type": "stream",
          "name": "stderr",
          "text": [
            "100%|██████████| 4294/4294 [00:02<00:00, 1981.66it/s]\n"
          ]
        },
        {
          "output_type": "stream",
          "name": "stdout",
          "text": [
            "length : 803\n"
          ]
        },
        {
          "output_type": "stream",
          "name": "stderr",
          "text": [
            "100%|██████████| 5189/5189 [00:02<00:00, 1992.76it/s]\n"
          ]
        },
        {
          "output_type": "stream",
          "name": "stdout",
          "text": [
            "length : 680\n"
          ]
        },
        {
          "output_type": "stream",
          "name": "stderr",
          "text": [
            "100%|██████████| 3593/3593 [00:01<00:00, 1959.79it/s]\n"
          ]
        },
        {
          "output_type": "stream",
          "name": "stdout",
          "text": [
            "length : 634\n"
          ]
        },
        {
          "output_type": "stream",
          "name": "stderr",
          "text": [
            "100%|██████████| 1193/1193 [00:00<00:00, 1625.36it/s]\n"
          ]
        },
        {
          "output_type": "stream",
          "name": "stdout",
          "text": [
            "length : 541\n"
          ]
        },
        {
          "output_type": "stream",
          "name": "stderr",
          "text": [
            "100%|██████████| 555/555 [00:00<00:00, 1253.44it/s]\n"
          ]
        },
        {
          "output_type": "stream",
          "name": "stdout",
          "text": [
            "length : 504\n"
          ]
        },
        {
          "output_type": "stream",
          "name": "stderr",
          "text": [
            "100%|██████████| 9680/9680 [00:04<00:00, 2072.90it/s]\n"
          ]
        },
        {
          "output_type": "stream",
          "name": "stdout",
          "text": [
            "length : 1093\n"
          ]
        },
        {
          "output_type": "stream",
          "name": "stderr",
          "text": [
            "100%|██████████| 866/866 [00:00<00:00, 1532.85it/s]\n"
          ]
        },
        {
          "output_type": "stream",
          "name": "stdout",
          "text": [
            "length : 516\n"
          ]
        }
      ]
    },
    {
      "cell_type": "code",
      "metadata": {
        "colab": {
          "base_uri": "https://localhost:8080/"
        },
        "id": "SlTl4mEgfyNH",
        "outputId": "fcc6c1af-542d-438c-9512-4894ed5b11b4"
      },
      "source": [
        "y_edge_ring[0]"
      ],
      "execution_count": 14,
      "outputs": [
        {
          "output_type": "execute_result",
          "data": {
            "text/plain": [
              "array([0., 0., 0., 1., 0., 0., 0.])"
            ]
          },
          "metadata": {},
          "execution_count": 14
        }
      ]
    },
    {
      "cell_type": "code",
      "metadata": {
        "colab": {
          "base_uri": "https://localhost:8080/",
          "height": 357
        },
        "id": "HSeYTaDXriQi",
        "outputId": "15dde426-72f0-4104-8bfc-167bd3799395"
      },
      "source": [
        "fig = plt.figure()\n",
        "\n",
        "ax0 = fig.add_subplot(3,3,1)\n",
        "ax1 = fig.add_subplot(3,3,2)\n",
        "ax2 = fig.add_subplot(3,3,3)\n",
        "ax3 = fig.add_subplot(3,3,4)\n",
        "ax4 = fig.add_subplot(3,3,5)\n",
        "ax5 = fig.add_subplot(3,3,6)\n",
        "ax6 = fig.add_subplot(3,3,7)\n",
        "\n",
        "ax0.imshow(np.transpose(x_center[0], (1,2,0)))\n",
        "ax0.set_title(y_center[0])\n",
        "ax1.imshow(np.transpose(x_edge_loc[0], (1,2,0)))\n",
        "ax1.set_title(y_edge_loc[0])\n",
        "ax2.imshow(np.transpose(x_loc[0], (1,2,0)))\n",
        "ax2.set_title(y_loc[0])\n",
        "ax3.imshow(np.transpose(x_scratch[0], (1,2,0)))\n",
        "ax3.set_title(y_scratch[0])\n",
        "ax4.imshow(np.transpose(x_donut[0], (1,2,0)))\n",
        "ax4.set_title(y_donut[0])\n",
        "ax5.imshow(np.transpose(x_edge_ring[0], (1,2,0)))\n",
        "ax5.set_title(y_edge_ring[0])\n",
        "ax6.imshow(np.transpose(x_random[0], (1,2,0)))\n",
        "ax6.set_title(y_random[0])"
      ],
      "execution_count": 15,
      "outputs": [
        {
          "output_type": "stream",
          "name": "stderr",
          "text": [
            "/usr/local/lib/python3.7/dist-packages/matplotlib/text.py:1165: FutureWarning: elementwise comparison failed; returning scalar instead, but in the future will perform elementwise comparison\n",
            "  if s != self._text:\n"
          ]
        },
        {
          "output_type": "execute_result",
          "data": {
            "text/plain": [
              "Text(0.5, 1.0, '[0. 0. 0. 0. 0. 1. 0.]')"
            ]
          },
          "metadata": {},
          "execution_count": 15
        },
        {
          "output_type": "display_data",
          "data": {
            "image/png": "[encoded data removed]",
            "text/plain": [
              "<Figure size 432x288 with 7 Axes>"
            ]
          },
          "metadata": {
            "needs_background": "light"
          }
        }
      ]
    },
    {
      "cell_type": "code",
      "metadata": {
        "id": "K4-orBRvQDcG"
      },
      "source": [
        "x_merge = np.concatenate([x_center, x_donut, x_edge_loc, x_edge_ring, x_loc, x_random, x_scratch])\n",
        "y_merge = np.concatenate([y_center, y_donut, y_edge_loc, y_edge_ring, y_loc, y_random, y_scratch])"
      ],
      "execution_count": 16,
      "outputs": []
    },
    {
      "cell_type": "code",
      "metadata": {
        "id": "GRdOKnLyQDe6",
        "colab": {
          "base_uri": "https://localhost:8080/"
        },
        "outputId": "9ce04332-83d6-41d6-94c3-b5f61ca45425"
      },
      "source": [
        "print(len(x_merge))\n",
        "print(len(y_merge))"
      ],
      "execution_count": 17,
      "outputs": [
        {
          "output_type": "stream",
          "name": "stdout",
          "text": [
            "3500\n",
            "3500\n"
          ]
        }
      ]
    },
    {
      "cell_type": "code",
      "metadata": {
        "id": "2FgyejIS2tVn",
        "colab": {
          "base_uri": "https://localhost:8080/"
        },
        "outputId": "b7a04436-f269-49c1-91c5-ced98a76080a"
      },
      "source": [
        "print(f\"x_merge.shape : {x_merge.shape}\")\n",
        "print(f\"y_merge.shape : {y_merge.shape}\")"
      ],
      "execution_count": 18,
      "outputs": [
        {
          "output_type": "stream",
          "name": "stdout",
          "text": [
            "x_merge.shape : (3500, 3, 128, 128)\n",
            "y_merge.shape : (3500, 7)\n"
          ]
        }
      ]
    },
    {
      "cell_type": "code",
      "metadata": {
        "id": "4SLUWhiP6ebg",
        "colab": {
          "base_uri": "https://localhost:8080/"
        },
        "outputId": "7f4078f1-6af1-469d-fc66-be3c2afeb9aa"
      },
      "source": [
        "print(f\"x_{len(x_merge)}_{IMAGE_SIZE}.npy\")\n",
        "print(f\"y_{len(y_merge)}_{IMAGE_SIZE}.npy\")\n",
        "\n",
        "np.save(f\"./drive/MyDrive/wafer/wm811k/x_{len(x_merge)}_{IMAGE_SIZE}.npy\", x_merge)\n",
        "np.save(f\"./drive/MyDrive/wafer/wm811k/y_{len(y_merge)}_{IMAGE_SIZE}.npy\", y_merge)"
      ],
      "execution_count": 20,
      "outputs": [
        {
          "output_type": "stream",
          "name": "stdout",
          "text": [
            "x_3500_128.npy\n",
            "y_3500_128.npy\n"
          ]
        }
      ]
    },
    {
      "cell_type": "code",
      "metadata": {
        "id": "aYSjFaKy_y_1"
      },
      "source": [
        ""
      ],
      "execution_count": null,
      "outputs": []
    }
  ]
}