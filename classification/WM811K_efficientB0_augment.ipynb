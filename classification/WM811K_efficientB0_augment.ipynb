{
  "nbformat": 4,
  "nbformat_minor": 0,
  "metadata": {
    "colab": {
      "name": "WM811K_efficientB0_augment.ipynb",
      "provenance": [],
      "collapsed_sections": [],
      "mount_file_id": "1Ju8pEzwJMPegcjx_WXuwNbA05THU9gxn",
      "authorship_tag": "ABX9TyN3qZqtDcKgrkler4xbzWHX",
      "include_colab_link": true
    },
    "kernelspec": {
      "name": "python3",
      "display_name": "Python 3"
    },
    "language_info": {
      "name": "python"
    },
    "accelerator": "GPU",
    "widgets": {
      "application/vnd.jupyter.widget-state+json": {
        "2e3e2d9a4c3743c09a6ec482a480354b": {
          "model_module": "@jupyter-widgets/controls",
          "model_name": "HBoxModel",
          "model_module_version": "1.5.0",
          "state": {
            "_view_name": "HBoxView",
            "_dom_classes": [],
            "_model_name": "HBoxModel",
            "_view_module": "@jupyter-widgets/controls",
            "_model_module_version": "1.5.0",
            "_view_count": null,
            "_view_module_version": "1.5.0",
            "box_style": "",
            "layout": "IPY_MODEL_ca16ef66eaa1404aa1a52490bb1f590a",
            "_model_module": "@jupyter-widgets/controls",
            "children": [
              "IPY_MODEL_6a885ceccac949ea97188c3991ea5c1f",
              "IPY_MODEL_3bc4c24943ca46798533533625076bf1",
              "IPY_MODEL_6e15c2a2996f4913b33423c6e6ab8c8c"
            ]
          }
        },
        "ca16ef66eaa1404aa1a52490bb1f590a": {
          "model_module": "@jupyter-widgets/base",
          "model_name": "LayoutModel",
          "model_module_version": "1.2.0",
          "state": {
            "_view_name": "LayoutView",
            "grid_template_rows": null,
            "right": null,
            "justify_content": null,
            "_view_module": "@jupyter-widgets/base",
            "overflow": null,
            "_model_module_version": "1.2.0",
            "_view_count": null,
            "flex_flow": null,
            "width": null,
            "min_width": null,
            "border": null,
            "align_items": null,
            "bottom": null,
            "_model_module": "@jupyter-widgets/base",
            "top": null,
            "grid_column": null,
            "overflow_y": null,
            "overflow_x": null,
            "grid_auto_flow": null,
            "grid_area": null,
            "grid_template_columns": null,
            "flex": null,
            "_model_name": "LayoutModel",
            "justify_items": null,
            "grid_row": null,
            "max_height": null,
            "align_content": null,
            "visibility": null,
            "align_self": null,
            "height": null,
            "min_height": null,
            "padding": null,
            "grid_auto_rows": null,
            "grid_gap": null,
            "max_width": null,
            "order": null,
            "_view_module_version": "1.2.0",
            "grid_template_areas": null,
            "object_position": null,
            "object_fit": null,
            "grid_auto_columns": null,
            "margin": null,
            "display": null,
            "left": null
          }
        },
        "6a885ceccac949ea97188c3991ea5c1f": {
          "model_module": "@jupyter-widgets/controls",
          "model_name": "HTMLModel",
          "model_module_version": "1.5.0",
          "state": {
            "_view_name": "HTMLView",
            "style": "IPY_MODEL_783eb2ba21894faeb3c5e61e338534db",
            "_dom_classes": [],
            "description": "",
            "_model_name": "HTMLModel",
            "placeholder": "​",
            "_view_module": "@jupyter-widgets/controls",
            "_model_module_version": "1.5.0",
            "value": "100%",
            "_view_count": null,
            "_view_module_version": "1.5.0",
            "description_tooltip": null,
            "_model_module": "@jupyter-widgets/controls",
            "layout": "IPY_MODEL_6bd3a860f8d346f6b4dae27f52b23100"
          }
        },
        "3bc4c24943ca46798533533625076bf1": {
          "model_module": "@jupyter-widgets/controls",
          "model_name": "FloatProgressModel",
          "model_module_version": "1.5.0",
          "state": {
            "_view_name": "ProgressView",
            "style": "IPY_MODEL_3992cc49f45e48609d628eaa60d40c49",
            "_dom_classes": [],
            "description": "",
            "_model_name": "FloatProgressModel",
            "bar_style": "success",
            "max": 21388428,
            "_view_module": "@jupyter-widgets/controls",
            "_model_module_version": "1.5.0",
            "value": 21388428,
            "_view_count": null,
            "_view_module_version": "1.5.0",
            "orientation": "horizontal",
            "min": 0,
            "description_tooltip": null,
            "_model_module": "@jupyter-widgets/controls",
            "layout": "IPY_MODEL_7a199d58430642c893f3b811124c4512"
          }
        },
        "6e15c2a2996f4913b33423c6e6ab8c8c": {
          "model_module": "@jupyter-widgets/controls",
          "model_name": "HTMLModel",
          "model_module_version": "1.5.0",
          "state": {
            "_view_name": "HTMLView",
            "style": "IPY_MODEL_c9cbd8ecb2714f6283198b8fa45b1e61",
            "_dom_classes": [],
            "description": "",
            "_model_name": "HTMLModel",
            "placeholder": "​",
            "_view_module": "@jupyter-widgets/controls",
            "_model_module_version": "1.5.0",
            "value": " 20.4M/20.4M [00:00&lt;00:00, 53.9MB/s]",
            "_view_count": null,
            "_view_module_version": "1.5.0",
            "description_tooltip": null,
            "_model_module": "@jupyter-widgets/controls",
            "layout": "IPY_MODEL_6e91e8bfca9648f0822de024e5e54d4e"
          }
        },
        "783eb2ba21894faeb3c5e61e338534db": {
          "model_module": "@jupyter-widgets/controls",
          "model_name": "DescriptionStyleModel",
          "model_module_version": "1.5.0",
          "state": {
            "_view_name": "StyleView",
            "_model_name": "DescriptionStyleModel",
            "description_width": "",
            "_view_module": "@jupyter-widgets/base",
            "_model_module_version": "1.5.0",
            "_view_count": null,
            "_view_module_version": "1.2.0",
            "_model_module": "@jupyter-widgets/controls"
          }
        },
        "6bd3a860f8d346f6b4dae27f52b23100": {
          "model_module": "@jupyter-widgets/base",
          "model_name": "LayoutModel",
          "model_module_version": "1.2.0",
          "state": {
            "_view_name": "LayoutView",
            "grid_template_rows": null,
            "right": null,
            "justify_content": null,
            "_view_module": "@jupyter-widgets/base",
            "overflow": null,
            "_model_module_version": "1.2.0",
            "_view_count": null,
            "flex_flow": null,
            "width": null,
            "min_width": null,
            "border": null,
            "align_items": null,
            "bottom": null,
            "_model_module": "@jupyter-widgets/base",
            "top": null,
            "grid_column": null,
            "overflow_y": null,
            "overflow_x": null,
            "grid_auto_flow": null,
            "grid_area": null,
            "grid_template_columns": null,
            "flex": null,
            "_model_name": "LayoutModel",
            "justify_items": null,
            "grid_row": null,
            "max_height": null,
            "align_content": null,
            "visibility": null,
            "align_self": null,
            "height": null,
            "min_height": null,
            "padding": null,
            "grid_auto_rows": null,
            "grid_gap": null,
            "max_width": null,
            "order": null,
            "_view_module_version": "1.2.0",
            "grid_template_areas": null,
            "object_position": null,
            "object_fit": null,
            "grid_auto_columns": null,
            "margin": null,
            "display": null,
            "left": null
          }
        },
        "3992cc49f45e48609d628eaa60d40c49": {
          "model_module": "@jupyter-widgets/controls",
          "model_name": "ProgressStyleModel",
          "model_module_version": "1.5.0",
          "state": {
            "_view_name": "StyleView",
            "_model_name": "ProgressStyleModel",
            "description_width": "",
            "_view_module": "@jupyter-widgets/base",
            "_model_module_version": "1.5.0",
            "_view_count": null,
            "_view_module_version": "1.2.0",
            "bar_color": null,
            "_model_module": "@jupyter-widgets/controls"
          }
        },
        "7a199d58430642c893f3b811124c4512": {
          "model_module": "@jupyter-widgets/base",
          "model_name": "LayoutModel",
          "model_module_version": "1.2.0",
          "state": {
            "_view_name": "LayoutView",
            "grid_template_rows": null,
            "right": null,
            "justify_content": null,
            "_view_module": "@jupyter-widgets/base",
            "overflow": null,
            "_model_module_version": "1.2.0",
            "_view_count": null,
            "flex_flow": null,
            "width": null,
            "min_width": null,
            "border": null,
            "align_items": null,
            "bottom": null,
            "_model_module": "@jupyter-widgets/base",
            "top": null,
            "grid_column": null,
            "overflow_y": null,
            "overflow_x": null,
            "grid_auto_flow": null,
            "grid_area": null,
            "grid_template_columns": null,
            "flex": null,
            "_model_name": "LayoutModel",
            "justify_items": null,
            "grid_row": null,
            "max_height": null,
            "align_content": null,
            "visibility": null,
            "align_self": null,
            "height": null,
            "min_height": null,
            "padding": null,
            "grid_auto_rows": null,
            "grid_gap": null,
            "max_width": null,
            "order": null,
            "_view_module_version": "1.2.0",
            "grid_template_areas": null,
            "object_position": null,
            "object_fit": null,
            "grid_auto_columns": null,
            "margin": null,
            "display": null,
            "left": null
          }
        },
        "c9cbd8ecb2714f6283198b8fa45b1e61": {
          "model_module": "@jupyter-widgets/controls",
          "model_name": "DescriptionStyleModel",
          "model_module_version": "1.5.0",
          "state": {
            "_view_name": "StyleView",
            "_model_name": "DescriptionStyleModel",
            "description_width": "",
            "_view_module": "@jupyter-widgets/base",
            "_model_module_version": "1.5.0",
            "_view_count": null,
            "_view_module_version": "1.2.0",
            "_model_module": "@jupyter-widgets/controls"
          }
        },
        "6e91e8bfca9648f0822de024e5e54d4e": {
          "model_module": "@jupyter-widgets/base",
          "model_name": "LayoutModel",
          "model_module_version": "1.2.0",
          "state": {
            "_view_name": "LayoutView",
            "grid_template_rows": null,
            "right": null,
            "justify_content": null,
            "_view_module": "@jupyter-widgets/base",
            "overflow": null,
            "_model_module_version": "1.2.0",
            "_view_count": null,
            "flex_flow": null,
            "width": null,
            "min_width": null,
            "border": null,
            "align_items": null,
            "bottom": null,
            "_model_module": "@jupyter-widgets/base",
            "top": null,
            "grid_column": null,
            "overflow_y": null,
            "overflow_x": null,
            "grid_auto_flow": null,
            "grid_area": null,
            "grid_template_columns": null,
            "flex": null,
            "_model_name": "LayoutModel",
            "justify_items": null,
            "grid_row": null,
            "max_height": null,
            "align_content": null,
            "visibility": null,
            "align_self": null,
            "height": null,
            "min_height": null,
            "padding": null,
            "grid_auto_rows": null,
            "grid_gap": null,
            "max_width": null,
            "order": null,
            "_view_module_version": "1.2.0",
            "grid_template_areas": null,
            "object_position": null,
            "object_fit": null,
            "grid_auto_columns": null,
            "margin": null,
            "display": null,
            "left": null
          }
        }
      }
    }
  },
  "cells": [
    {
      "cell_type": "markdown",
      "metadata": {
        "id": "view-in-github",
        "colab_type": "text"
      },
      "source": [
        "<a href=\"https://colab.research.google.com/github/zeekgwang/WM-811K/blob/main/classification/WM811K_efficientB0_augment.ipynb\" target=\"_parent\"><img src=\"https://colab.research.google.com/assets/colab-badge.svg\" alt=\"Open In Colab\"/></a>"
      ]
    },
    {
      "cell_type": "code",
      "metadata": {
        "id": "niqEj74Q47ZN"
      },
      "source": [
        "import os\n",
        "from os.path import join\n",
        "\n",
        "import numpy as np\n",
        "import pandas as pd\n",
        "\n",
        "from sklearn.model_selection import KFold \n",
        "from sklearn.model_selection import cross_val_score\n",
        "from sklearn.model_selection import train_test_split\n",
        "\n",
        "from sklearn.preprocessing import OneHotEncoder\n",
        "\n",
        "import matplotlib.pyplot as plt\n",
        "from tqdm import tqdm"
      ],
      "execution_count": null,
      "outputs": []
    },
    {
      "cell_type": "code",
      "metadata": {
        "id": "2wgSPpo3BMUT"
      },
      "source": [
        "import torch\n",
        "import torch.nn as nn\n",
        "import torch.nn.functional as F\n",
        "import torch.optim as optim\n",
        "from torch.utils.data.sampler import SubsetRandomSampler\n",
        "from torch.utils.data import Dataset, DataLoader\n",
        "from torchvision import datasets, transforms\n",
        "from PIL import Image\n",
        "\n",
        "np.random.seed(0)"
      ],
      "execution_count": null,
      "outputs": []
    },
    {
      "cell_type": "code",
      "metadata": {
        "colab": {
          "base_uri": "https://localhost:8080/"
        },
        "id": "0saPPOTl5BR7",
        "outputId": "4483b482-cb64-41c2-e4e8-b2ce71f8e4e2"
      },
      "source": [
        "data_path = \"./drive/MyDrive/wafer/wm811k/\"\n",
        "print(os.listdir(data_path))"
      ],
      "execution_count": null,
      "outputs": [
        {
          "output_type": "stream",
          "name": "stdout",
          "text": [
            "['LSWMD.pkl', 'y_3000.npy', 'x_3000.npy', 'y_3500.npy', 'x_3500.npy', 'x_3500_128.npy', 'y_3500_128.npy']\n"
          ]
        }
      ]
    },
    {
      "cell_type": "code",
      "metadata": {
        "id": "fBSNs0k16DzQ"
      },
      "source": [
        "x_3500 = np.load(data_path + \"x_3500_128.npy\")\n",
        "y_3500 = np.load(data_path + \"y_3500_128.npy\")\n",
        "y_3500 = y_3500.argmax(axis=1).reshape(-1,1)"
      ],
      "execution_count": null,
      "outputs": []
    },
    {
      "cell_type": "code",
      "metadata": {
        "id": "k30ps5nF2KYW",
        "colab": {
          "base_uri": "https://localhost:8080/"
        },
        "outputId": "ee7df480-e20e-4df7-a1c5-faad146512ca"
      },
      "source": [
        "print(f\"x_3500.shape : {x_3500.shape}\")\n",
        "print(f\"y_3500.shape : {y_3500.shape}\")"
      ],
      "execution_count": null,
      "outputs": [
        {
          "output_type": "stream",
          "name": "stdout",
          "text": [
            "x_3500.shape : (3500, 3, 128, 128)\n",
            "y_3500.shape : (3500, 1)\n"
          ]
        }
      ]
    },
    {
      "cell_type": "code",
      "metadata": {
        "id": "T-ZUkm_CHUhb"
      },
      "source": [
        "x_train, x_test, y_train, y_test \\\n",
        "= train_test_split(x_3500, y_3500,\n",
        "                   test_size = 0.2,\n",
        "                   shuffle=True)"
      ],
      "execution_count": null,
      "outputs": []
    },
    {
      "cell_type": "code",
      "metadata": {
        "colab": {
          "base_uri": "https://localhost:8080/"
        },
        "id": "wTGkW8ZuHgZL",
        "outputId": "e5e4672d-20ae-411d-a12c-c0547bd3175a"
      },
      "source": [
        "print(f\"x_train.shape : {x_train.shape}\")\n",
        "print(f\"x_test.shape : {x_test.shape}\")\n",
        "print(f\"y_train.shape : {y_train.shape}\")\n",
        "print(f\"y_test.shape : {y_test.shape}\")"
      ],
      "execution_count": null,
      "outputs": [
        {
          "output_type": "stream",
          "name": "stdout",
          "text": [
            "x_train.shape : (2800, 3, 128, 128)\n",
            "x_test.shape : (700, 3, 128, 128)\n",
            "y_train.shape : (2800, 1)\n",
            "y_test.shape : (700, 1)\n"
          ]
        }
      ]
    },
    {
      "cell_type": "code",
      "metadata": {
        "id": "g97NldnkBoqh"
      },
      "source": [
        "batch_size = 128"
      ],
      "execution_count": null,
      "outputs": []
    },
    {
      "cell_type": "code",
      "metadata": {
        "id": "4SLUWhiP6ebg",
        "colab": {
          "base_uri": "https://localhost:8080/"
        },
        "outputId": "b1f52d66-9d45-4fa5-9f04-30dbd8f24ccf"
      },
      "source": [
        "def get_device():\n",
        "  if torch.cuda.is_available():\n",
        "    device = 'cuda:0'\n",
        "  else:\n",
        "    device = 'cpu'\n",
        "  return device\n",
        "\n",
        "device = get_device()\n",
        "print(device)"
      ],
      "execution_count": null,
      "outputs": [
        {
          "output_type": "stream",
          "name": "stdout",
          "text": [
            "cuda:0\n"
          ]
        }
      ]
    },
    {
      "cell_type": "code",
      "metadata": {
        "id": "okFcWP-pBUWb"
      },
      "source": [
        "class WaferMapDataset(Dataset):\n",
        "  def __init__(self, x, y, transform = None):\n",
        "    super().__init__()\n",
        "    self.x = x\n",
        "    self.y = y\n",
        "    self.transform = transform\n",
        "\n",
        "  def __len__(self):\n",
        "    return len(self.x)\n",
        "\n",
        "  def __getitem__(self, idx):\n",
        "    x_idx = self.x[idx]\n",
        "    # print(x_idx.shape)\n",
        "    image = Image.fromarray((x_idx * 255).astype(np.uint8).transpose((1,2,0)))    \n",
        "    # print(np.array(image).shape)\n",
        "    if self.transform:\n",
        "      image = self.transform(image)\n",
        "\n",
        "    x_idx = np.array(image) / 255\n",
        "    x_idx = x_idx.transpose((2,0,1))\n",
        "    # print(x_idx.shape)\n",
        "    return torch.FloatTensor(x_idx), torch.LongTensor(self.y[idx])"
      ],
      "execution_count": null,
      "outputs": []
    },
    {
      "cell_type": "code",
      "metadata": {
        "id": "MwUKWiZLBrbp"
      },
      "source": [
        "transform = transforms.Compose([\n",
        "    transforms.RandomHorizontalFlip(),\n",
        "    transforms.RandomVerticalFlip(),\n",
        "    transforms.RandomRotation(30)\n",
        "])"
      ],
      "execution_count": null,
      "outputs": []
    },
    {
      "cell_type": "code",
      "metadata": {
        "id": "XMWNRY2RBbQ9"
      },
      "source": [
        "waferMapDataset = WaferMapDataset(x_train, y_train, transform = transform)\n",
        "# waferMapDataset = WaferMapDataset(x_train, y_train)"
      ],
      "execution_count": null,
      "outputs": []
    },
    {
      "cell_type": "code",
      "metadata": {
        "id": "eztfLP0qBe_l"
      },
      "source": [
        "train_loader = DataLoader(waferMapDataset, batch_size=batch_size)"
      ],
      "execution_count": null,
      "outputs": []
    },
    {
      "cell_type": "code",
      "metadata": {
        "id": "tWh7La_0Bgwd"
      },
      "source": [
        "data_iter = iter(train_loader)\n",
        "x_head, y_head = data_iter.next()"
      ],
      "execution_count": null,
      "outputs": []
    },
    {
      "cell_type": "code",
      "metadata": {
        "colab": {
          "base_uri": "https://localhost:8080/"
        },
        "id": "wrBXbs21BuIL",
        "outputId": "7adae2bb-bbab-445d-9212-7391886b103d"
      },
      "source": [
        "print(f\"type(x_head) : {type(x_head)},\\ntype(y_head) : {type(y_head)}\")"
      ],
      "execution_count": null,
      "outputs": [
        {
          "output_type": "stream",
          "name": "stdout",
          "text": [
            "type(x_head) : <class 'torch.Tensor'>,\n",
            "type(y_head) : <class 'torch.Tensor'>\n"
          ]
        }
      ]
    },
    {
      "cell_type": "code",
      "metadata": {
        "colab": {
          "base_uri": "https://localhost:8080/"
        },
        "id": "-mnKMNkNB3pV",
        "outputId": "c08d59dc-b6f5-4dc4-b0c6-6eda330d6fff"
      },
      "source": [
        "print(f\"x_head.shape : {x_head.shape},\\ny_head.shape : {y_head.shape}\")"
      ],
      "execution_count": null,
      "outputs": [
        {
          "output_type": "stream",
          "name": "stdout",
          "text": [
            "x_head.shape : torch.Size([128, 3, 128, 128]),\n",
            "y_head.shape : torch.Size([128, 1])\n"
          ]
        }
      ]
    },
    {
      "cell_type": "code",
      "metadata": {
        "colab": {
          "base_uri": "https://localhost:8080/",
          "height": 235
        },
        "id": "NqxyHzu9CH3Z",
        "outputId": "a53aff14-aab0-498d-a382-578887b79715"
      },
      "source": [
        "fig = plt.figure()\n",
        "\n",
        "ax1 = fig.add_subplot(1,2,1)\n",
        "ax2 = fig.add_subplot(1,2,2)\n",
        "\n",
        "ax1.imshow(np.transpose(x_head[0], (1,2,0)))\n",
        "ax1.set_title(y_head[0])\n",
        "\n",
        "\n",
        "ax2.imshow(np.transpose(x_head[1], (1,2,0)))\n",
        "ax2.set_title(y_head[1])"
      ],
      "execution_count": null,
      "outputs": [
        {
          "output_type": "execute_result",
          "data": {
            "text/plain": [
              "Text(0.5, 1.0, 'tensor([3])')"
            ]
          },
          "metadata": {},
          "execution_count": 18
        },
        {
          "output_type": "display_data",
          "data": {
            "image/png": "[encoded data removed]",
            "text/plain": [
              "<Figure size 432x288 with 2 Axes>"
            ]
          },
          "metadata": {
            "needs_background": "light"
          }
        }
      ]
    },
    {
      "cell_type": "code",
      "metadata": {
        "colab": {
          "base_uri": "https://localhost:8080/"
        },
        "id": "Uc9BR3rXakjR",
        "outputId": "27ecdcda-c72e-44c3-e136-751bb8b95832"
      },
      "source": [
        "!pip3 install efficientnet_pytorch\n",
        "from efficientnet_pytorch import EfficientNet"
      ],
      "execution_count": null,
      "outputs": [
        {
          "output_type": "stream",
          "name": "stdout",
          "text": [
            "Collecting efficientnet_pytorch\n",
            "  Downloading efficientnet_pytorch-0.7.1.tar.gz (21 kB)\n",
            "Requirement already satisfied: torch in /usr/local/lib/python3.7/dist-packages (from efficientnet_pytorch) (1.9.0+cu102)\n",
            "Requirement already satisfied: typing-extensions in /usr/local/lib/python3.7/dist-packages (from torch->efficientnet_pytorch) (3.7.4.3)\n",
            "Building wheels for collected packages: efficientnet-pytorch\n",
            "  Building wheel for efficientnet-pytorch (setup.py) ... \u001b[?25l\u001b[?25hdone\n",
            "  Created wheel for efficientnet-pytorch: filename=efficientnet_pytorch-0.7.1-py3-none-any.whl size=16446 sha256=461f13ca74137cff2bcd7186917e2e5c6ccc37ae2b58099c127dfd7f72ba2b84\n",
            "  Stored in directory: /root/.cache/pip/wheels/0e/cc/b2/49e74588263573ff778da58cc99b9c6349b496636a7e165be6\n",
            "Successfully built efficientnet-pytorch\n",
            "Installing collected packages: efficientnet-pytorch\n",
            "Successfully installed efficientnet-pytorch-0.7.1\n"
          ]
        }
      ]
    },
    {
      "cell_type": "code",
      "metadata": {
        "id": "C4qeVvSVatwF"
      },
      "source": [
        "def get_model(model_name='efficientnet-b0'):\n",
        "    model = EfficientNet.from_pretrained(model_name)\n",
        "    del model._fc\n",
        "    # # # use the same head as the baseline notebook.\n",
        "    model._fc = nn.Linear(1280, 7)\n",
        "    return model"
      ],
      "execution_count": null,
      "outputs": []
    },
    {
      "cell_type": "code",
      "metadata": {
        "colab": {
          "base_uri": "https://localhost:8080/",
          "height": 107,
          "referenced_widgets": [
            "2e3e2d9a4c3743c09a6ec482a480354b",
            "ca16ef66eaa1404aa1a52490bb1f590a",
            "6a885ceccac949ea97188c3991ea5c1f",
            "3bc4c24943ca46798533533625076bf1",
            "6e15c2a2996f4913b33423c6e6ab8c8c",
            "783eb2ba21894faeb3c5e61e338534db",
            "6bd3a860f8d346f6b4dae27f52b23100",
            "3992cc49f45e48609d628eaa60d40c49",
            "7a199d58430642c893f3b811124c4512",
            "c9cbd8ecb2714f6283198b8fa45b1e61",
            "6e91e8bfca9648f0822de024e5e54d4e"
          ]
        },
        "id": "sXotGlkDat0r",
        "outputId": "2efb3618-8804-4b1d-cb97-6d363c083417"
      },
      "source": [
        "model = get_model().to(device)"
      ],
      "execution_count": null,
      "outputs": [
        {
          "output_type": "stream",
          "name": "stderr",
          "text": [
            "Downloading: \"https://github.com/lukemelas/EfficientNet-PyTorch/releases/download/1.0/efficientnet-b0-355c32eb.pth\" to /root/.cache/torch/hub/checkpoints/efficientnet-b0-355c32eb.pth\n"
          ]
        },
        {
          "output_type": "display_data",
          "data": {
            "application/vnd.jupyter.widget-view+json": {
              "model_id": "2e3e2d9a4c3743c09a6ec482a480354b",
              "version_minor": 0,
              "version_major": 2
            },
            "text/plain": [
              "  0%|          | 0.00/20.4M [00:00<?, ?B/s]"
            ]
          },
          "metadata": {}
        },
        {
          "output_type": "stream",
          "name": "stdout",
          "text": [
            "Loaded pretrained weights for efficientnet-b0\n"
          ]
        }
      ]
    },
    {
      "cell_type": "code",
      "metadata": {
        "id": "U21Wf6K5at4F"
      },
      "source": [
        "# from torchsummary import summary as summary_\n",
        "# summary_(model.to(device), (3,128,128))"
      ],
      "execution_count": null,
      "outputs": []
    },
    {
      "cell_type": "code",
      "metadata": {
        "id": "e0K91orWat7g"
      },
      "source": [
        "import torch.optim as optim\n",
        "\n",
        "criterion = nn.CrossEntropyLoss().to(device)\n",
        "optimizer = optim.Adam(model.parameters(), lr = 0.001)"
      ],
      "execution_count": null,
      "outputs": []
    },
    {
      "cell_type": "code",
      "metadata": {
        "id": "OgEyvoTxat-n"
      },
      "source": [
        "x_test = torch.FloatTensor(x_test).to(device)\n",
        "y_test = torch.LongTensor(y_test).to(device)"
      ],
      "execution_count": null,
      "outputs": []
    },
    {
      "cell_type": "code",
      "metadata": {
        "colab": {
          "base_uri": "https://localhost:8080/"
        },
        "id": "Hb1_x4_3hwJA",
        "outputId": "278f3627-7d2b-4741-bf41-bf2797dee36a"
      },
      "source": [
        "for epoch in range(20):\n",
        "\n",
        "    running_loss = 0.0\n",
        "    accuracy= 0.0\n",
        "\n",
        "    for b, (x, y) in enumerate(train_loader):\n",
        "        model.train()\n",
        "        \n",
        "        x = x.to(device)\n",
        "        y = y.reshape(-1).to(device)\n",
        "        \n",
        "        # 변화도(Gradient) 매개변수를 0으로 만들고\n",
        "        optimizer.zero_grad()\n",
        "\n",
        "        # 순전파 + 역전파 + 최적화를 한 후\n",
        "        outputs = model(x)\n",
        "\n",
        "        loss = criterion(outputs, y)\n",
        "        loss.backward()\n",
        "        optimizer.step()\n",
        "\n",
        "        # 통계를 출력합니다.\n",
        "        running_loss += loss.item()\n",
        "\n",
        "        # if(b == len(train_loader) - 1):\n",
        "        #   model.eval()\n",
        "        #   prediction = model(x_test)\n",
        "        #   correct_prediction = torch.argmax(prediction, 1) == y_test.reshape(-1)\n",
        "        #   accuracy = correct_prediction.float().mean().cpu()\n",
        "\n",
        "    print('[%d] loss: %.3f  validation accuracy: %f' %\n",
        "          (epoch + 1, running_loss , 0))\n",
        "\n",
        "print('Finished Training')"
      ],
      "execution_count": null,
      "outputs": [
        {
          "output_type": "stream",
          "name": "stdout",
          "text": [
            "[1] loss: 18.842  validation accuracy: 0.000000\n",
            "[2] loss: 7.243  validation accuracy: 0.000000\n",
            "[3] loss: 4.897  validation accuracy: 0.000000\n",
            "[4] loss: 4.250  validation accuracy: 0.000000\n",
            "[5] loss: 3.860  validation accuracy: 0.000000\n",
            "[6] loss: 3.317  validation accuracy: 0.000000\n",
            "[7] loss: 2.563  validation accuracy: 0.000000\n",
            "[8] loss: 2.610  validation accuracy: 0.000000\n",
            "[9] loss: 1.894  validation accuracy: 0.000000\n",
            "[10] loss: 2.095  validation accuracy: 0.000000\n",
            "[11] loss: 1.657  validation accuracy: 0.000000\n",
            "[12] loss: 1.555  validation accuracy: 0.000000\n",
            "[13] loss: 0.978  validation accuracy: 0.000000\n",
            "[14] loss: 0.998  validation accuracy: 0.000000\n",
            "[15] loss: 1.195  validation accuracy: 0.000000\n",
            "[16] loss: 1.010  validation accuracy: 0.000000\n",
            "[17] loss: 1.274  validation accuracy: 0.000000\n",
            "[18] loss: 1.470  validation accuracy: 0.000000\n",
            "[19] loss: 0.780  validation accuracy: 0.000000\n",
            "[20] loss: 0.702  validation accuracy: 0.000000\n",
            "Finished Training\n"
          ]
        }
      ]
    },
    {
      "cell_type": "code",
      "metadata": {
        "id": "Xt8EihpVMhyn",
        "colab": {
          "base_uri": "https://localhost:8080/"
        },
        "outputId": "4d94941c-0da9-4d3d-8190-98bedba2ba46"
      },
      "source": [
        "# 학습을 진행하지 않을 것이므로 torch.no_grad()\n",
        "with torch.no_grad():\n",
        "    # x_test = torch.FloatTensor(x_test).to(device)\n",
        "    # y_test = torch.LongTensor(y_test).to(device)\n",
        "\n",
        "    prediction = model(x_test)\n",
        "    correct_prediction = torch.argmax(prediction, 1) == y_test.reshape(-1)\n",
        "    accuracy = correct_prediction.float().mean()\n",
        "    print('Accuracy:', accuracy.item())"
      ],
      "execution_count": null,
      "outputs": [
        {
          "output_type": "stream",
          "name": "stdout",
          "text": [
            "Accuracy: 0.9571428298950195\n"
          ]
        }
      ]
    },
    {
      "cell_type": "code",
      "metadata": {
        "id": "jPJGs9VA913G",
        "colab": {
          "base_uri": "https://localhost:8080/"
        },
        "outputId": "4f3fe4e7-2939-4b0b-c378-9e9a4d583c0d"
      },
      "source": [
        "from sklearn.metrics import confusion_matrix\n",
        "\n",
        "cf = confusion_matrix(torch.argmax(prediction, 1).cpu(), y_test.reshape(-1).cpu())\n",
        "print(cf)"
      ],
      "execution_count": null,
      "outputs": [
        {
          "output_type": "stream",
          "name": "stdout",
          "text": [
            "[[ 98   1   1   0   2   0   0]\n",
            " [  0 110   0   0   0   1   0]\n",
            " [  2   1  83   2   4   0   1]\n",
            " [  1   0   3  86   0   0   0]\n",
            " [  1   0   4   0  83   1   2]\n",
            " [  0   0   0   0   0 115   0]\n",
            " [  1   0   1   0   1   0  95]]\n"
          ]
        }
      ]
    },
    {
      "cell_type": "code",
      "metadata": {
        "colab": {
          "base_uri": "https://localhost:8080/"
        },
        "id": "-cqH3UrKUZlT",
        "outputId": "09d067a6-a4ad-4e8c-ff67-bf60f51a9c49"
      },
      "source": [
        "prediction[598]"
      ],
      "execution_count": null,
      "outputs": [
        {
          "output_type": "execute_result",
          "data": {
            "text/plain": [
              "tensor([-2.6596,  0.4389, -1.5534, -2.2005, -4.4690, 10.6271, -2.2888],\n",
              "       device='cuda:0')"
            ]
          },
          "metadata": {},
          "execution_count": 27
        }
      ]
    },
    {
      "cell_type": "code",
      "metadata": {
        "colab": {
          "base_uri": "https://localhost:8080/"
        },
        "id": "qQeWPSVMTWC5",
        "outputId": "0e18f768-a317-441f-89e6-63d953796086"
      },
      "source": [
        "torch.argmax(prediction, 1)"
      ],
      "execution_count": null,
      "outputs": [
        {
          "output_type": "execute_result",
          "data": {
            "text/plain": [
              "tensor([0, 0, 5, 5, 3, 2, 3, 3, 1, 1, 2, 0, 6, 0, 6, 6, 6, 2, 2, 3, 0, 5, 4, 3,\n",
              "        6, 0, 1, 1, 2, 1, 1, 1, 5, 5, 6, 0, 1, 1, 3, 4, 1, 5, 0, 5, 0, 2, 6, 4,\n",
              "        1, 1, 6, 5, 1, 3, 1, 2, 4, 2, 3, 0, 1, 2, 3, 1, 2, 6, 5, 3, 6, 1, 1, 1,\n",
              "        3, 3, 2, 5, 4, 0, 2, 2, 6, 2, 4, 4, 2, 4, 0, 2, 1, 1, 1, 0, 4, 2, 3, 5,\n",
              "        4, 1, 5, 5, 0, 3, 1, 0, 4, 5, 2, 6, 0, 1, 2, 6, 5, 1, 1, 2, 0, 4, 0, 0,\n",
              "        3, 0, 1, 3, 1, 6, 1, 6, 1, 5, 1, 6, 4, 3, 3, 5, 5, 0, 6, 5, 6, 2, 1, 0,\n",
              "        4, 6, 6, 4, 5, 5, 5, 3, 4, 3, 4, 1, 1, 1, 3, 4, 2, 1, 5, 1, 4, 1, 3, 3,\n",
              "        5, 5, 3, 2, 5, 1, 5, 4, 3, 4, 2, 4, 5, 1, 5, 5, 5, 3, 4, 1, 4, 4, 5, 3,\n",
              "        5, 0, 5, 5, 3, 6, 3, 0, 5, 0, 5, 1, 6, 1, 1, 6, 3, 2, 4, 1, 5, 1, 2, 5,\n",
              "        2, 6, 3, 2, 5, 4, 1, 5, 2, 6, 4, 0, 5, 6, 6, 6, 2, 4, 5, 5, 2, 0, 0, 3,\n",
              "        5, 6, 4, 2, 0, 4, 2, 1, 0, 6, 2, 6, 2, 1, 2, 5, 5, 4, 0, 3, 6, 3, 0, 3,\n",
              "        6, 1, 6, 0, 5, 5, 5, 1, 1, 1, 0, 2, 4, 6, 0, 0, 3, 5, 0, 5, 0, 1, 2, 6,\n",
              "        1, 6, 1, 5, 2, 5, 4, 5, 3, 1, 1, 0, 5, 1, 2, 3, 6, 3, 1, 5, 6, 3, 5, 4,\n",
              "        0, 0, 6, 4, 3, 0, 6, 3, 4, 1, 2, 1, 4, 6, 0, 6, 6, 1, 5, 0, 3, 0, 0, 1,\n",
              "        3, 1, 6, 3, 4, 5, 0, 2, 1, 5, 3, 2, 5, 5, 0, 1, 0, 1, 1, 5, 4, 2, 6, 5,\n",
              "        6, 6, 4, 5, 3, 4, 5, 2, 0, 6, 0, 2, 0, 3, 2, 1, 3, 4, 3, 5, 1, 0, 0, 6,\n",
              "        6, 3, 4, 4, 0, 6, 4, 6, 4, 2, 4, 2, 5, 0, 0, 0, 1, 6, 6, 5, 0, 4, 3, 1,\n",
              "        2, 4, 1, 5, 2, 6, 0, 2, 6, 6, 0, 5, 3, 1, 1, 2, 0, 5, 6, 0, 6, 1, 0, 6,\n",
              "        3, 4, 0, 5, 5, 3, 1, 1, 1, 1, 4, 6, 0, 2, 2, 0, 1, 2, 2, 5, 3, 1, 6, 1,\n",
              "        4, 0, 0, 2, 0, 3, 3, 4, 1, 3, 4, 6, 0, 4, 4, 0, 5, 1, 2, 0, 0, 0, 3, 6,\n",
              "        6, 3, 2, 2, 3, 3, 4, 3, 0, 2, 5, 5, 5, 3, 6, 6, 3, 2, 5, 5, 0, 5, 5, 6,\n",
              "        4, 1, 4, 5, 2, 2, 2, 1, 2, 5, 5, 2, 0, 3, 5, 0, 2, 6, 4, 2, 1, 4, 1, 2,\n",
              "        0, 6, 4, 2, 5, 4, 2, 0, 4, 4, 0, 2, 3, 6, 1, 4, 4, 2, 1, 0, 0, 0, 4, 6,\n",
              "        0, 5, 0, 3, 3, 2, 6, 6, 3, 4, 6, 5, 0, 5, 2, 2, 3, 1, 6, 1, 3, 3, 1, 0,\n",
              "        4, 5, 1, 0, 3, 6, 4, 3, 6, 5, 6, 3, 5, 5, 3, 4, 6, 2, 6, 4, 3, 0, 5, 5,\n",
              "        2, 3, 4, 1, 2, 6, 3, 5, 6, 5, 2, 5, 4, 1, 2, 1, 5, 0, 3, 6, 3, 2, 2, 5,\n",
              "        3, 4, 0, 2, 3, 6, 5, 5, 3, 6, 6, 6, 4, 4, 2, 2, 4, 1, 4, 3, 6, 1, 1, 3,\n",
              "        5, 0, 4, 5, 4, 5, 4, 6, 4, 4, 1, 6, 6, 1, 2, 0, 5, 6, 6, 5, 3, 0, 5, 0,\n",
              "        1, 1, 4, 0, 4, 2, 6, 4, 4, 0, 5, 0, 1, 1, 0, 6, 0, 2, 5, 4, 5, 2, 6, 1,\n",
              "        3, 1, 2, 5], device='cuda:0')"
            ]
          },
          "metadata": {},
          "execution_count": 28
        }
      ]
    },
    {
      "cell_type": "code",
      "metadata": {
        "colab": {
          "base_uri": "https://localhost:8080/"
        },
        "id": "njqPLcUjTsKv",
        "outputId": "1856741d-de6e-4377-aab4-566b025b6c6d"
      },
      "source": [
        "y_test.reshape(-1)"
      ],
      "execution_count": null,
      "outputs": [
        {
          "output_type": "execute_result",
          "data": {
            "text/plain": [
              "tensor([2, 0, 5, 5, 3, 3, 3, 3, 1, 1, 2, 0, 6, 0, 6, 0, 6, 2, 2, 3, 0, 5, 4, 3,\n",
              "        6, 0, 1, 1, 2, 1, 1, 1, 5, 5, 6, 0, 1, 1, 3, 4, 1, 5, 0, 5, 0, 2, 6, 4,\n",
              "        1, 1, 6, 5, 1, 3, 1, 2, 4, 2, 3, 0, 1, 2, 3, 1, 2, 6, 5, 3, 6, 1, 1, 1,\n",
              "        3, 3, 2, 5, 4, 0, 2, 2, 6, 2, 4, 4, 2, 4, 0, 2, 1, 1, 1, 0, 4, 2, 3, 5,\n",
              "        4, 1, 5, 5, 0, 3, 1, 0, 4, 5, 4, 6, 0, 1, 2, 6, 5, 1, 1, 2, 0, 6, 0, 0,\n",
              "        3, 4, 1, 3, 1, 6, 1, 6, 1, 5, 1, 6, 4, 3, 3, 5, 5, 0, 6, 5, 6, 2, 1, 0,\n",
              "        4, 6, 6, 4, 5, 5, 5, 3, 4, 3, 4, 1, 1, 1, 3, 4, 2, 1, 5, 1, 4, 1, 0, 3,\n",
              "        5, 5, 3, 2, 5, 1, 5, 4, 3, 4, 2, 4, 5, 1, 5, 5, 5, 3, 4, 1, 4, 4, 5, 3,\n",
              "        5, 0, 5, 5, 3, 6, 3, 0, 5, 0, 5, 1, 2, 1, 5, 6, 3, 2, 4, 1, 5, 1, 2, 5,\n",
              "        2, 6, 3, 2, 5, 0, 1, 5, 2, 6, 4, 0, 5, 6, 6, 6, 2, 4, 5, 5, 0, 0, 0, 3,\n",
              "        5, 6, 4, 2, 0, 4, 2, 1, 0, 6, 2, 6, 4, 1, 2, 5, 5, 4, 0, 3, 6, 3, 0, 3,\n",
              "        6, 1, 6, 0, 5, 5, 5, 1, 1, 1, 0, 2, 2, 6, 0, 0, 3, 5, 0, 5, 0, 1, 2, 6,\n",
              "        1, 6, 1, 5, 2, 5, 4, 5, 3, 1, 1, 0, 5, 1, 2, 3, 6, 3, 1, 5, 6, 3, 5, 4,\n",
              "        0, 0, 6, 4, 3, 0, 6, 3, 4, 1, 2, 1, 4, 6, 0, 6, 6, 1, 5, 0, 3, 0, 0, 1,\n",
              "        3, 1, 6, 3, 4, 5, 0, 2, 1, 5, 3, 2, 5, 5, 0, 1, 0, 1, 1, 5, 4, 2, 6, 5,\n",
              "        6, 6, 4, 5, 3, 4, 5, 2, 0, 6, 0, 4, 0, 3, 2, 1, 3, 4, 3, 5, 1, 0, 0, 6,\n",
              "        6, 3, 4, 4, 0, 6, 4, 6, 4, 2, 4, 1, 5, 0, 0, 0, 1, 6, 6, 5, 0, 6, 3, 1,\n",
              "        2, 4, 1, 5, 2, 6, 0, 3, 6, 6, 0, 5, 3, 1, 1, 2, 0, 5, 6, 0, 6, 1, 0, 6,\n",
              "        3, 4, 0, 5, 5, 3, 1, 1, 1, 1, 4, 6, 0, 2, 2, 0, 1, 2, 2, 5, 3, 1, 6, 1,\n",
              "        2, 0, 0, 2, 0, 3, 3, 4, 1, 3, 2, 6, 0, 4, 4, 0, 5, 1, 2, 0, 0, 0, 3, 6,\n",
              "        6, 3, 4, 2, 3, 3, 4, 3, 0, 2, 5, 5, 5, 3, 6, 6, 3, 2, 5, 5, 0, 5, 5, 6,\n",
              "        4, 1, 4, 5, 2, 0, 2, 1, 2, 5, 5, 2, 0, 3, 5, 0, 2, 6, 4, 2, 1, 4, 1, 2,\n",
              "        0, 6, 4, 2, 5, 4, 2, 0, 4, 4, 0, 2, 3, 6, 1, 4, 4, 2, 1, 4, 0, 0, 4, 6,\n",
              "        0, 5, 0, 3, 3, 2, 6, 6, 2, 4, 6, 5, 0, 5, 2, 2, 3, 1, 6, 1, 2, 3, 1, 0,\n",
              "        4, 5, 1, 0, 3, 4, 4, 3, 6, 5, 6, 2, 5, 5, 3, 4, 6, 2, 6, 4, 3, 0, 5, 5,\n",
              "        2, 3, 4, 1, 2, 6, 3, 5, 6, 5, 2, 5, 4, 1, 2, 1, 5, 0, 3, 6, 3, 2, 2, 5,\n",
              "        3, 4, 0, 2, 3, 6, 5, 5, 3, 6, 6, 6, 5, 4, 2, 2, 4, 1, 4, 3, 6, 1, 1, 3,\n",
              "        5, 0, 4, 5, 4, 5, 2, 6, 4, 4, 1, 6, 6, 1, 6, 0, 5, 6, 6, 5, 3, 0, 5, 0,\n",
              "        1, 1, 4, 0, 4, 2, 6, 4, 4, 0, 5, 1, 1, 1, 0, 6, 0, 2, 5, 4, 5, 2, 6, 1,\n",
              "        3, 1, 2, 5], device='cuda:0')"
            ]
          },
          "metadata": {},
          "execution_count": 29
        }
      ]
    },
    {
      "cell_type": "code",
      "metadata": {
        "id": "tLrR_q27Tun8"
      },
      "source": [
        ""
      ],
      "execution_count": null,
      "outputs": []
    }
  ]
}