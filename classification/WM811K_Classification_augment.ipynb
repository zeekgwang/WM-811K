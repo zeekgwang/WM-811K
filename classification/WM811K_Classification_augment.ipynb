{
  "nbformat": 4,
  "nbformat_minor": 0,
  "metadata": {
    "colab": {
      "name": "WM811K_Classification_augment.ipynb",
      "provenance": [],
      "collapsed_sections": [],
      "mount_file_id": "1h25qM__5kbLUDNnnLrPpiLswUUHKu9OF",
      "authorship_tag": "ABX9TyPmNCE2QHQg5VYOz2iw+03l",
      "include_colab_link": true
    },
    "kernelspec": {
      "name": "python3",
      "display_name": "Python 3"
    },
    "language_info": {
      "name": "python"
    },
    "accelerator": "GPU"
  },
  "cells": [
    {
      "cell_type": "markdown",
      "metadata": {
        "id": "view-in-github",
        "colab_type": "text"
      },
      "source": [
        "<a href=\"https://colab.research.google.com/github/zeekgwang/WM-811K/blob/main/classification/WM811K_Classification_augment.ipynb\" target=\"_parent\"><img src=\"https://colab.research.google.com/assets/colab-badge.svg\" alt=\"Open In Colab\"/></a>"
      ]
    },
    {
      "cell_type": "code",
      "metadata": {
        "id": "niqEj74Q47ZN"
      },
      "source": [
        "import os\n",
        "from os.path import join\n",
        "\n",
        "import numpy as np\n",
        "import pandas as pd\n",
        "\n",
        "from sklearn.model_selection import KFold \n",
        "from sklearn.model_selection import cross_val_score\n",
        "from sklearn.model_selection import train_test_split\n",
        "\n",
        "from sklearn.preprocessing import OneHotEncoder\n",
        "\n",
        "import matplotlib.pyplot as plt\n",
        "from tqdm import tqdm"
      ],
      "execution_count": null,
      "outputs": []
    },
    {
      "cell_type": "code",
      "metadata": {
        "id": "2wgSPpo3BMUT"
      },
      "source": [
        "import torch\n",
        "import torch.nn as nn\n",
        "import torch.nn.functional as F\n",
        "import torch.optim as optim\n",
        "from torch.utils.data.sampler import SubsetRandomSampler\n",
        "from torch.utils.data import Dataset, DataLoader\n",
        "from torchvision import datasets, transforms\n",
        "from PIL import Image\n",
        "\n",
        "np.random.seed(0)"
      ],
      "execution_count": null,
      "outputs": []
    },
    {
      "cell_type": "code",
      "metadata": {
        "colab": {
          "base_uri": "https://localhost:8080/"
        },
        "id": "0saPPOTl5BR7",
        "outputId": "d05b3364-9549-4c13-973a-ade79ce844c9"
      },
      "source": [
        "data_path = \"./drive/MyDrive/wafer/wm811k/\"\n",
        "print(os.listdir(data_path))"
      ],
      "execution_count": null,
      "outputs": [
        {
          "output_type": "stream",
          "name": "stdout",
          "text": [
            "['LSWMD.pkl', 'y_3000.npy', 'x_3000.npy', 'y_3500.npy', 'x_3500.npy', 'x_3500_128.npy', 'y_3500_128.npy']\n"
          ]
        }
      ]
    },
    {
      "cell_type": "code",
      "metadata": {
        "id": "fBSNs0k16DzQ"
      },
      "source": [
        "x_3500 = np.load(data_path + \"x_3500.npy\")\n",
        "y_3500 = np.load(data_path + \"y_3500.npy\")\n",
        "y_3500 = y_3500.argmax(axis=1).reshape(-1,1)"
      ],
      "execution_count": null,
      "outputs": []
    },
    {
      "cell_type": "code",
      "metadata": {
        "id": "k30ps5nF2KYW",
        "colab": {
          "base_uri": "https://localhost:8080/"
        },
        "outputId": "f68a04c4-73e9-4ef4-9c75-1e398535f171"
      },
      "source": [
        "print(f\"x_3500.shape : {x_3500.shape}\")\n",
        "print(f\"y_3500.shape : {y_3500.shape}\")"
      ],
      "execution_count": null,
      "outputs": [
        {
          "output_type": "stream",
          "name": "stdout",
          "text": [
            "x_3500.shape : (3500, 3, 28, 28)\n",
            "y_3500.shape : (3500, 1)\n"
          ]
        }
      ]
    },
    {
      "cell_type": "code",
      "metadata": {
        "id": "T-ZUkm_CHUhb"
      },
      "source": [
        "x_train, x_test, y_train, y_test \\\n",
        "= train_test_split(x_3500, y_3500,\n",
        "                   test_size = 0.2,\n",
        "                   shuffle=True)"
      ],
      "execution_count": null,
      "outputs": []
    },
    {
      "cell_type": "code",
      "metadata": {
        "colab": {
          "base_uri": "https://localhost:8080/"
        },
        "id": "wTGkW8ZuHgZL",
        "outputId": "0e2e7e36-7c28-4c2d-ae6e-92a10fb9beea"
      },
      "source": [
        "print(f\"x_train.shape : {x_train.shape}\")\n",
        "print(f\"x_test.shape : {x_test.shape}\")\n",
        "print(f\"y_train.shape : {y_train.shape}\")\n",
        "print(f\"y_test.shape : {y_test.shape}\")"
      ],
      "execution_count": null,
      "outputs": [
        {
          "output_type": "stream",
          "name": "stdout",
          "text": [
            "x_train.shape : (2800, 3, 28, 28)\n",
            "x_test.shape : (700, 3, 28, 28)\n",
            "y_train.shape : (2800, 1)\n",
            "y_test.shape : (700, 1)\n"
          ]
        }
      ]
    },
    {
      "cell_type": "code",
      "metadata": {
        "id": "g97NldnkBoqh"
      },
      "source": [
        "batch_size = 1024"
      ],
      "execution_count": null,
      "outputs": []
    },
    {
      "cell_type": "code",
      "metadata": {
        "id": "4SLUWhiP6ebg",
        "colab": {
          "base_uri": "https://localhost:8080/"
        },
        "outputId": "70306aa6-7d85-4b8f-8155-ace83cb83c5a"
      },
      "source": [
        "def get_device():\n",
        "  if torch.cuda.is_available():\n",
        "    device = 'cuda:0'\n",
        "  else:\n",
        "    device = 'cpu'\n",
        "  return device\n",
        "\n",
        "device = get_device()\n",
        "print(device)"
      ],
      "execution_count": null,
      "outputs": [
        {
          "output_type": "stream",
          "name": "stdout",
          "text": [
            "cuda:0\n"
          ]
        }
      ]
    },
    {
      "cell_type": "code",
      "metadata": {
        "id": "okFcWP-pBUWb"
      },
      "source": [
        "class WaferMapDataset(Dataset):\n",
        "  def __init__(self, x, y, transform = None):\n",
        "    super().__init__()\n",
        "    self.x = x\n",
        "    self.y = y\n",
        "    self.transform = transform\n",
        "\n",
        "  def __len__(self):\n",
        "    return len(self.x)\n",
        "\n",
        "  def __getitem__(self, idx):\n",
        "    x_idx = self.x[idx]\n",
        "    # print(x_idx.shape)\n",
        "    image = Image.fromarray((x_idx * 255).astype(np.uint8).transpose((1,2,0)))    \n",
        "    # print(np.array(image).shape)\n",
        "    if self.transform:\n",
        "      image = self.transform(image)\n",
        "\n",
        "    x_idx = np.array(image) / 255\n",
        "    x_idx = x_idx.transpose((2,0,1))\n",
        "    # print(x_idx.shape)\n",
        "    return torch.FloatTensor(x_idx), torch.LongTensor(self.y[idx])"
      ],
      "execution_count": null,
      "outputs": []
    },
    {
      "cell_type": "code",
      "metadata": {
        "id": "MwUKWiZLBrbp"
      },
      "source": [
        "transform = transforms.Compose([\n",
        "    transforms.RandomHorizontalFlip(),\n",
        "    transforms.RandomVerticalFlip(),\n",
        "    transforms.RandomRotation(30)\n",
        "])"
      ],
      "execution_count": null,
      "outputs": []
    },
    {
      "cell_type": "code",
      "metadata": {
        "id": "XMWNRY2RBbQ9"
      },
      "source": [
        "waferMapDataset = WaferMapDataset(x_train, y_train, transform = transform)\n",
        "# waferMapDataset = WaferMapDataset(x_train, y_train)"
      ],
      "execution_count": null,
      "outputs": []
    },
    {
      "cell_type": "code",
      "metadata": {
        "id": "eztfLP0qBe_l"
      },
      "source": [
        "train_loader = DataLoader(waferMapDataset, batch_size=batch_size)"
      ],
      "execution_count": null,
      "outputs": []
    },
    {
      "cell_type": "code",
      "metadata": {
        "id": "tWh7La_0Bgwd"
      },
      "source": [
        "data_iter = iter(train_loader)\n",
        "x_head, y_head = data_iter.next()"
      ],
      "execution_count": null,
      "outputs": []
    },
    {
      "cell_type": "code",
      "metadata": {
        "colab": {
          "base_uri": "https://localhost:8080/"
        },
        "id": "wrBXbs21BuIL",
        "outputId": "777832cd-8df5-4867-8c09-2fe633d79bec"
      },
      "source": [
        "print(f\"type(x_head) : {type(x_head)},\\ntype(y_head) : {type(y_head)}\")"
      ],
      "execution_count": null,
      "outputs": [
        {
          "output_type": "stream",
          "name": "stdout",
          "text": [
            "type(x_head) : <class 'torch.Tensor'>,\n",
            "type(y_head) : <class 'torch.Tensor'>\n"
          ]
        }
      ]
    },
    {
      "cell_type": "code",
      "metadata": {
        "colab": {
          "base_uri": "https://localhost:8080/"
        },
        "id": "-mnKMNkNB3pV",
        "outputId": "811d002f-60d6-4f17-a572-9dcd0164cd4b"
      },
      "source": [
        "print(f\"x_head.shape : {x_head.shape},\\ny_head.shape : {y_head.shape}\")"
      ],
      "execution_count": null,
      "outputs": [
        {
          "output_type": "stream",
          "name": "stdout",
          "text": [
            "x_head.shape : torch.Size([1024, 3, 28, 28]),\n",
            "y_head.shape : torch.Size([1024, 1])\n"
          ]
        }
      ]
    },
    {
      "cell_type": "code",
      "metadata": {
        "colab": {
          "base_uri": "https://localhost:8080/",
          "height": 235
        },
        "id": "NqxyHzu9CH3Z",
        "outputId": "f44e397c-2504-472c-ca43-fb376ccff7c1"
      },
      "source": [
        "fig = plt.figure()\n",
        "\n",
        "ax1 = fig.add_subplot(1,2,1)\n",
        "ax2 = fig.add_subplot(1,2,2)\n",
        "\n",
        "ax1.imshow(np.transpose(x_head[0], (1,2,0)))\n",
        "ax1.set_title(y_head[0])\n",
        "\n",
        "\n",
        "ax2.imshow(np.transpose(x_head[1], (1,2,0)))\n",
        "ax2.set_title(y_head[1])"
      ],
      "execution_count": null,
      "outputs": [
        {
          "output_type": "execute_result",
          "data": {
            "text/plain": [
              "Text(0.5, 1.0, 'tensor([5])')"
            ]
          },
          "metadata": {},
          "execution_count": 27
        },
        {
          "output_type": "display_data",
          "data": {
            "image/png": "[encoded data removed]",
            "text/plain": [
              "<Figure size 432x288 with 2 Axes>"
            ]
          },
          "metadata": {
            "needs_background": "light"
          }
        }
      ]
    },
    {
      "cell_type": "code",
      "metadata": {
        "id": "u3oQjO1SCsxm"
      },
      "source": [
        "class ConvNet(nn.Module):\n",
        "  def __init__(self):\n",
        "    super().__init__()\n",
        "\n",
        "    self.conv1 = nn.Conv2d(3, 32, 3, padding=1)\n",
        "    self.conv2 = nn.Conv2d(32, 64, 3, padding=1)\n",
        "    self.conv3 = nn.Conv2d(64, 128, 3, padding=1)\n",
        "\n",
        "    self.pool = nn.MaxPool2d(2, 2)\n",
        "    self.flat = nn.Flatten()\n",
        "\n",
        "    self.fc1 = nn.Linear(6272, 128)\n",
        "    self.fc2 = nn.Linear(128, 7)\n",
        "\n",
        "  def forward(self, x):\n",
        "    x = F.relu((self.conv1(x)))\n",
        "    x = self.pool(x)\n",
        "    x = F.relu((self.conv2(x)))\n",
        "    x = self.pool(x)\n",
        "    x = F.relu((self.conv3(x)))\n",
        "\n",
        "    x = self.flat(x)\n",
        "\n",
        "    x = F.relu(self.fc1(x))\n",
        "    x = F.sigmoid(self.fc2(x))\n",
        "\n",
        "    return x"
      ],
      "execution_count": null,
      "outputs": []
    },
    {
      "cell_type": "code",
      "metadata": {
        "colab": {
          "base_uri": "https://localhost:8080/"
        },
        "id": "yXEtVz-DJJn_",
        "outputId": "3475c25c-914a-4ad1-f25a-c73187d965b3"
      },
      "source": [
        "model = ConvNet().to(device)\n",
        "model"
      ],
      "execution_count": null,
      "outputs": [
        {
          "output_type": "execute_result",
          "data": {
            "text/plain": [
              "ConvNet(\n",
              "  (conv1): Conv2d(3, 32, kernel_size=(3, 3), stride=(1, 1), padding=(1, 1))\n",
              "  (conv2): Conv2d(32, 64, kernel_size=(3, 3), stride=(1, 1), padding=(1, 1))\n",
              "  (conv3): Conv2d(64, 128, kernel_size=(3, 3), stride=(1, 1), padding=(1, 1))\n",
              "  (pool): MaxPool2d(kernel_size=2, stride=2, padding=0, dilation=1, ceil_mode=False)\n",
              "  (flat): Flatten(start_dim=1, end_dim=-1)\n",
              "  (fc1): Linear(in_features=6272, out_features=128, bias=True)\n",
              "  (fc2): Linear(in_features=128, out_features=7, bias=True)\n",
              ")"
            ]
          },
          "metadata": {},
          "execution_count": 29
        }
      ]
    },
    {
      "cell_type": "code",
      "metadata": {
        "colab": {
          "base_uri": "https://localhost:8080/"
        },
        "id": "NuzpakoLJLOx",
        "outputId": "37ae8e0e-be95-4102-f087-fcbc89fe4a16"
      },
      "source": [
        "from torchsummary import summary as summary_\n",
        "summary_(model.to(device), (3,28,28))"
      ],
      "execution_count": null,
      "outputs": [
        {
          "output_type": "stream",
          "name": "stdout",
          "text": [
            "----------------------------------------------------------------\n",
            "        Layer (type)               Output Shape         Param #\n",
            "================================================================\n",
            "            Conv2d-1           [-1, 32, 28, 28]             896\n",
            "         MaxPool2d-2           [-1, 32, 14, 14]               0\n",
            "            Conv2d-3           [-1, 64, 14, 14]          18,496\n",
            "         MaxPool2d-4             [-1, 64, 7, 7]               0\n",
            "            Conv2d-5            [-1, 128, 7, 7]          73,856\n",
            "           Flatten-6                 [-1, 6272]               0\n",
            "            Linear-7                  [-1, 128]         802,944\n",
            "            Linear-8                    [-1, 7]             903\n",
            "================================================================\n",
            "Total params: 897,095\n",
            "Trainable params: 897,095\n",
            "Non-trainable params: 0\n",
            "----------------------------------------------------------------\n",
            "Input size (MB): 0.01\n",
            "Forward/backward pass size (MB): 0.46\n",
            "Params size (MB): 3.42\n",
            "Estimated Total Size (MB): 3.89\n",
            "----------------------------------------------------------------\n"
          ]
        },
        {
          "output_type": "stream",
          "name": "stderr",
          "text": [
            "/usr/local/lib/python3.7/dist-packages/torch/nn/functional.py:718: UserWarning: Named tensors and all their associated APIs are an experimental feature and subject to change. Please do not use them for anything important until they are released as stable. (Triggered internally at  /pytorch/c10/core/TensorImpl.h:1156.)\n",
            "  return torch.max_pool2d(input, kernel_size, stride, padding, dilation, ceil_mode)\n",
            "/usr/local/lib/python3.7/dist-packages/torch/nn/functional.py:1805: UserWarning: nn.functional.sigmoid is deprecated. Use torch.sigmoid instead.\n",
            "  warnings.warn(\"nn.functional.sigmoid is deprecated. Use torch.sigmoid instead.\")\n"
          ]
        }
      ]
    },
    {
      "cell_type": "code",
      "metadata": {
        "id": "TidfgEo5JOdh"
      },
      "source": [
        "import torch.optim as optim\n",
        "\n",
        "criterion = nn.CrossEntropyLoss().to(device)\n",
        "optimizer = optim.Adam(model.parameters(), lr = 0.001)"
      ],
      "execution_count": null,
      "outputs": []
    },
    {
      "cell_type": "code",
      "metadata": {
        "id": "LKYW58ebRvjS"
      },
      "source": [
        "x_test = torch.FloatTensor(x_test).to(device)\n",
        "y_test = torch.LongTensor(y_test).to(device)"
      ],
      "execution_count": null,
      "outputs": []
    },
    {
      "cell_type": "code",
      "metadata": {
        "colab": {
          "base_uri": "https://localhost:8080/"
        },
        "id": "j6xVgdSbLwUp",
        "outputId": "a16e0480-a5df-4627-cc41-23c6224190dd"
      },
      "source": [
        "for epoch in range(100):\n",
        "\n",
        "    running_loss = 0.0\n",
        "    for x, y in train_loader:\n",
        "        x = x.to(device)\n",
        "        y = y.reshape(-1).to(device)\n",
        "        # y = torch.tensor(y, dtype=torch.long, device=device)\n",
        "        \n",
        "        optimizer.zero_grad()\n",
        "\n",
        "        outputs = model(x)\n",
        "        # print(outputs.shape)\n",
        "        # print(y.shape)\n",
        "        loss = criterion(outputs, y)\n",
        "        loss.backward()\n",
        "        optimizer.step()\n",
        "\n",
        "        running_loss += loss.item()\n",
        "\n",
        "    prediction = model(x_test)\n",
        "    correct_prediction = torch.argmax(prediction, 1) == y_test.reshape(-1)\n",
        "    accuracy = correct_prediction.float().mean()\n",
        "\n",
        "    print('[%d] loss: %.3f  validation accuracy: %f' %\n",
        "          (epoch + 1, running_loss , accuracy.item()))\n",
        "\n",
        "print('Finished Training')"
      ],
      "execution_count": null,
      "outputs": [
        {
          "output_type": "stream",
          "name": "stderr",
          "text": [
            "/usr/local/lib/python3.7/dist-packages/torch/nn/functional.py:1805: UserWarning: nn.functional.sigmoid is deprecated. Use torch.sigmoid instead.\n",
            "  warnings.warn(\"nn.functional.sigmoid is deprecated. Use torch.sigmoid instead.\")\n"
          ]
        },
        {
          "output_type": "stream",
          "name": "stdout",
          "text": [
            "[1] loss: 5.819  validation accuracy: 0.145714\n",
            "[2] loss: 5.643  validation accuracy: 0.395714\n",
            "[3] loss: 5.299  validation accuracy: 0.490000\n",
            "[4] loss: 4.990  validation accuracy: 0.561429\n",
            "[5] loss: 4.816  validation accuracy: 0.621429\n",
            "[6] loss: 4.739  validation accuracy: 0.595714\n",
            "[7] loss: 4.689  validation accuracy: 0.638571\n",
            "[8] loss: 4.633  validation accuracy: 0.592857\n",
            "[9] loss: 4.553  validation accuracy: 0.708571\n",
            "[10] loss: 4.483  validation accuracy: 0.588571\n",
            "[11] loss: 4.462  validation accuracy: 0.721429\n",
            "[12] loss: 4.420  validation accuracy: 0.708571\n",
            "[13] loss: 4.372  validation accuracy: 0.662857\n",
            "[14] loss: 4.341  validation accuracy: 0.702857\n",
            "[15] loss: 4.309  validation accuracy: 0.715714\n",
            "[16] loss: 4.288  validation accuracy: 0.732857\n",
            "[17] loss: 4.260  validation accuracy: 0.734286\n",
            "[18] loss: 4.245  validation accuracy: 0.735714\n",
            "[19] loss: 4.209  validation accuracy: 0.742857\n",
            "[20] loss: 4.200  validation accuracy: 0.744286\n",
            "[21] loss: 4.172  validation accuracy: 0.752857\n",
            "[22] loss: 4.160  validation accuracy: 0.760000\n",
            "[23] loss: 4.145  validation accuracy: 0.762857\n",
            "[24] loss: 4.132  validation accuracy: 0.755714\n",
            "[25] loss: 4.104  validation accuracy: 0.748571\n",
            "[26] loss: 4.107  validation accuracy: 0.757143\n",
            "[27] loss: 4.091  validation accuracy: 0.772857\n",
            "[28] loss: 4.080  validation accuracy: 0.774286\n",
            "[29] loss: 4.064  validation accuracy: 0.788571\n",
            "[30] loss: 4.069  validation accuracy: 0.780000\n",
            "[31] loss: 4.052  validation accuracy: 0.778571\n",
            "[32] loss: 4.051  validation accuracy: 0.784286\n",
            "[33] loss: 4.045  validation accuracy: 0.784286\n",
            "[34] loss: 4.030  validation accuracy: 0.791429\n",
            "[35] loss: 4.040  validation accuracy: 0.798571\n",
            "[36] loss: 4.025  validation accuracy: 0.804286\n",
            "[37] loss: 4.007  validation accuracy: 0.814286\n",
            "[38] loss: 3.996  validation accuracy: 0.812857\n",
            "[39] loss: 3.988  validation accuracy: 0.807143\n",
            "[40] loss: 3.986  validation accuracy: 0.805714\n",
            "[41] loss: 3.983  validation accuracy: 0.810000\n",
            "[42] loss: 3.975  validation accuracy: 0.800000\n",
            "[43] loss: 3.975  validation accuracy: 0.817143\n",
            "[44] loss: 3.958  validation accuracy: 0.797143\n",
            "[45] loss: 3.956  validation accuracy: 0.805714\n",
            "[46] loss: 3.950  validation accuracy: 0.810000\n",
            "[47] loss: 3.956  validation accuracy: 0.815714\n",
            "[48] loss: 3.934  validation accuracy: 0.822857\n",
            "[49] loss: 3.926  validation accuracy: 0.825714\n",
            "[50] loss: 3.935  validation accuracy: 0.812857\n",
            "[51] loss: 3.926  validation accuracy: 0.822857\n",
            "[52] loss: 3.906  validation accuracy: 0.831429\n",
            "[53] loss: 3.920  validation accuracy: 0.831429\n",
            "[54] loss: 3.907  validation accuracy: 0.822857\n",
            "[55] loss: 3.900  validation accuracy: 0.831429\n",
            "[56] loss: 3.901  validation accuracy: 0.827143\n",
            "[57] loss: 3.908  validation accuracy: 0.822857\n",
            "[58] loss: 3.897  validation accuracy: 0.830000\n",
            "[59] loss: 3.888  validation accuracy: 0.827143\n",
            "[60] loss: 3.888  validation accuracy: 0.828571\n",
            "[61] loss: 3.893  validation accuracy: 0.835714\n",
            "[62] loss: 3.885  validation accuracy: 0.827143\n",
            "[63] loss: 3.891  validation accuracy: 0.834286\n",
            "[64] loss: 3.875  validation accuracy: 0.830000\n",
            "[65] loss: 3.883  validation accuracy: 0.830000\n",
            "[66] loss: 3.883  validation accuracy: 0.835714\n",
            "[67] loss: 3.875  validation accuracy: 0.834286\n",
            "[68] loss: 3.874  validation accuracy: 0.837143\n",
            "[69] loss: 3.858  validation accuracy: 0.834286\n",
            "[70] loss: 3.855  validation accuracy: 0.840000\n",
            "[71] loss: 3.852  validation accuracy: 0.850000\n",
            "[72] loss: 3.842  validation accuracy: 0.854286\n",
            "[73] loss: 3.855  validation accuracy: 0.850000\n",
            "[74] loss: 3.861  validation accuracy: 0.845714\n",
            "[75] loss: 3.848  validation accuracy: 0.850000\n",
            "[76] loss: 3.842  validation accuracy: 0.842857\n",
            "[77] loss: 3.839  validation accuracy: 0.845714\n",
            "[78] loss: 3.837  validation accuracy: 0.852857\n",
            "[79] loss: 3.840  validation accuracy: 0.852857\n",
            "[80] loss: 3.842  validation accuracy: 0.844286\n",
            "[81] loss: 3.833  validation accuracy: 0.842857\n",
            "[82] loss: 3.827  validation accuracy: 0.847143\n",
            "[83] loss: 3.834  validation accuracy: 0.850000\n",
            "[84] loss: 3.821  validation accuracy: 0.854286\n",
            "[85] loss: 3.825  validation accuracy: 0.860000\n",
            "[86] loss: 3.820  validation accuracy: 0.850000\n",
            "[87] loss: 3.812  validation accuracy: 0.855714\n",
            "[88] loss: 3.823  validation accuracy: 0.855714\n",
            "[89] loss: 3.819  validation accuracy: 0.852857\n",
            "[90] loss: 3.815  validation accuracy: 0.847143\n",
            "[91] loss: 3.811  validation accuracy: 0.858571\n",
            "[92] loss: 3.808  validation accuracy: 0.860000\n",
            "[93] loss: 3.812  validation accuracy: 0.868571\n",
            "[94] loss: 3.798  validation accuracy: 0.872857\n",
            "[95] loss: 3.793  validation accuracy: 0.868571\n",
            "[96] loss: 3.805  validation accuracy: 0.870000\n",
            "[97] loss: 3.788  validation accuracy: 0.861429\n",
            "[98] loss: 3.800  validation accuracy: 0.854286\n",
            "[99] loss: 3.808  validation accuracy: 0.855714\n",
            "[100] loss: 3.817  validation accuracy: 0.868571\n",
            "Finished Training\n"
          ]
        }
      ]
    },
    {
      "cell_type": "code",
      "metadata": {
        "id": "Xt8EihpVMhyn",
        "colab": {
          "base_uri": "https://localhost:8080/"
        },
        "outputId": "ad66f207-3c45-45a2-beff-f84fed67e111"
      },
      "source": [
        "# 학습을 진행하지 않을 것이므로 torch.no_grad()\n",
        "with torch.no_grad():\n",
        "    # x_test = torch.FloatTensor(x_test).to(device)\n",
        "    # y_test = torch.LongTensor(y_test).to(device)\n",
        "\n",
        "    prediction = model(x_test)\n",
        "    correct_prediction = torch.argmax(prediction, 1) == y_test.reshape(-1)\n",
        "    accuracy = correct_prediction.float().mean()\n",
        "    print('Accuracy:', accuracy.item())"
      ],
      "execution_count": null,
      "outputs": [
        {
          "output_type": "stream",
          "name": "stdout",
          "text": [
            "Accuracy: 0.868571400642395\n"
          ]
        },
        {
          "output_type": "stream",
          "name": "stderr",
          "text": [
            "/usr/local/lib/python3.7/dist-packages/torch/nn/functional.py:1805: UserWarning: nn.functional.sigmoid is deprecated. Use torch.sigmoid instead.\n",
            "  warnings.warn(\"nn.functional.sigmoid is deprecated. Use torch.sigmoid instead.\")\n"
          ]
        }
      ]
    },
    {
      "cell_type": "code",
      "metadata": {
        "id": "jPJGs9VA913G",
        "colab": {
          "base_uri": "https://localhost:8080/"
        },
        "outputId": "f94489b1-0e0b-4155-8cba-20b641bfcdbb"
      },
      "source": [
        "from sklearn.metrics import confusion_matrix\n",
        "\n",
        "cf = confusion_matrix(torch.argmax(prediction, 1).cpu(), y_test.reshape(-1).cpu())\n",
        "print(cf)"
      ],
      "execution_count": null,
      "outputs": [
        {
          "output_type": "stream",
          "name": "stdout",
          "text": [
            "[[ 99   0   3   0   4   1   2]\n",
            " [  0  91   1   0   0   3   2]\n",
            " [  1   1  75   3   8   0   5]\n",
            " [  0   0   3 105   0   0   1]\n",
            " [  3   0   5   0  73   1  10]\n",
            " [  1   1   2   0   2  92   0]\n",
            " [  1   1   8   1  18   0  73]]\n"
          ]
        }
      ]
    },
    {
      "cell_type": "code",
      "metadata": {
        "colab": {
          "base_uri": "https://localhost:8080/"
        },
        "id": "-cqH3UrKUZlT",
        "outputId": "9519e89c-5d32-4dcf-bcc4-11a3a4a7457d"
      },
      "source": [
        "prediction[598]"
      ],
      "execution_count": null,
      "outputs": [
        {
          "output_type": "execute_result",
          "data": {
            "text/plain": [
              "tensor([1.0433e-18, 2.6911e-22, 2.7797e-16, 8.1246e-21, 2.0848e-26, 1.0000e+00,\n",
              "        3.0381e-27], device='cuda:0')"
            ]
          },
          "metadata": {},
          "execution_count": 26
        }
      ]
    },
    {
      "cell_type": "code",
      "metadata": {
        "colab": {
          "base_uri": "https://localhost:8080/"
        },
        "id": "qQeWPSVMTWC5",
        "outputId": "a4c95cb2-9800-429d-9e47-61fca371e19a"
      },
      "source": [
        "torch.argmax(prediction, 1)"
      ],
      "execution_count": null,
      "outputs": [
        {
          "output_type": "execute_result",
          "data": {
            "text/plain": [
              "tensor([0, 0, 5, 5, 3, 2, 3, 3, 1, 1, 2, 4, 6, 0, 6, 0, 0, 5, 2, 3, 0, 5, 4, 3,\n",
              "        6, 0, 1, 1, 2, 1, 1, 1, 5, 5, 6, 0, 1, 1, 3, 4, 1, 5, 0, 5, 0, 2, 6, 4,\n",
              "        1, 1, 4, 5, 1, 2, 1, 2, 4, 2, 3, 0, 1, 2, 3, 1, 2, 4, 5, 3, 6, 1, 1, 1,\n",
              "        3, 3, 2, 5, 4, 0, 3, 2, 6, 2, 6, 4, 2, 4, 4, 2, 1, 1, 1, 0, 4, 2, 3, 5,\n",
              "        4, 1, 5, 5, 0, 3, 1, 0, 4, 5, 2, 6, 4, 1, 2, 6, 5, 1, 1, 2, 0, 6, 0, 0,\n",
              "        3, 4, 1, 3, 1, 6, 4, 6, 1, 5, 1, 6, 4, 3, 3, 5, 5, 0, 6, 5, 6, 2, 1, 0,\n",
              "        4, 6, 6, 4, 5, 5, 5, 3, 4, 3, 4, 1, 1, 1, 3, 4, 2, 1, 5, 1, 6, 1, 0, 3,\n",
              "        5, 5, 3, 2, 5, 1, 5, 4, 3, 6, 2, 4, 1, 1, 5, 5, 5, 3, 4, 1, 4, 4, 5, 3,\n",
              "        5, 0, 5, 5, 3, 6, 3, 0, 5, 0, 5, 1, 6, 1, 1, 4, 3, 2, 0, 1, 5, 1, 2, 5,\n",
              "        2, 6, 3, 2, 5, 4, 1, 5, 2, 6, 2, 0, 5, 6, 6, 4, 2, 4, 5, 5, 0, 6, 0, 3,\n",
              "        5, 4, 4, 2, 0, 4, 2, 1, 0, 6, 2, 6, 2, 1, 2, 5, 5, 1, 0, 3, 1, 3, 0, 3,\n",
              "        6, 1, 6, 0, 5, 5, 5, 1, 1, 1, 0, 5, 4, 4, 0, 0, 2, 5, 0, 5, 0, 1, 2, 6,\n",
              "        1, 4, 1, 5, 2, 5, 4, 5, 3, 1, 1, 0, 4, 1, 2, 3, 6, 3, 1, 5, 6, 3, 5, 4,\n",
              "        0, 0, 6, 1, 3, 0, 6, 3, 4, 1, 2, 1, 4, 6, 0, 1, 6, 1, 5, 0, 3, 0, 0, 1,\n",
              "        3, 1, 6, 3, 5, 5, 0, 2, 1, 5, 3, 2, 5, 5, 0, 1, 0, 1, 1, 5, 4, 2, 4, 5,\n",
              "        6, 6, 1, 5, 3, 4, 5, 2, 0, 6, 0, 4, 0, 3, 2, 1, 3, 1, 3, 5, 5, 0, 0, 6,\n",
              "        6, 3, 4, 4, 0, 6, 4, 6, 2, 2, 6, 4, 5, 0, 0, 0, 1, 6, 6, 5, 0, 6, 3, 1,\n",
              "        3, 4, 1, 5, 2, 3, 0, 3, 4, 5, 0, 5, 3, 1, 1, 2, 0, 5, 6, 0, 6, 1, 0, 6,\n",
              "        3, 0, 0, 5, 5, 3, 1, 1, 1, 1, 4, 6, 0, 2, 5, 0, 1, 3, 2, 5, 3, 1, 6, 1,\n",
              "        2, 0, 4, 2, 0, 3, 3, 4, 1, 3, 2, 6, 0, 4, 4, 0, 5, 1, 2, 0, 0, 0, 3, 6,\n",
              "        6, 3, 4, 2, 3, 2, 4, 3, 0, 4, 5, 5, 5, 3, 6, 4, 3, 2, 5, 5, 0, 5, 5, 6,\n",
              "        0, 1, 2, 5, 6, 0, 2, 1, 2, 5, 5, 2, 0, 3, 5, 0, 2, 6, 4, 2, 1, 4, 1, 2,\n",
              "        0, 6, 4, 2, 5, 4, 4, 0, 0, 4, 0, 2, 3, 6, 1, 4, 2, 2, 1, 4, 0, 0, 4, 6,\n",
              "        4, 5, 0, 3, 2, 6, 4, 4, 5, 4, 4, 5, 0, 5, 6, 2, 3, 1, 6, 6, 2, 3, 1, 5,\n",
              "        6, 5, 1, 0, 2, 4, 4, 2, 6, 5, 6, 2, 5, 5, 3, 4, 6, 5, 6, 1, 3, 0, 5, 5,\n",
              "        2, 3, 2, 1, 2, 5, 3, 5, 4, 4, 2, 5, 2, 1, 2, 1, 5, 0, 3, 6, 3, 2, 4, 5,\n",
              "        3, 4, 0, 4, 3, 6, 5, 5, 3, 6, 6, 4, 5, 4, 2, 0, 4, 1, 4, 3, 4, 1, 1, 3,\n",
              "        5, 0, 4, 5, 4, 5, 2, 6, 6, 4, 1, 5, 6, 1, 2, 0, 5, 5, 6, 5, 3, 0, 5, 0,\n",
              "        1, 1, 6, 0, 4, 2, 6, 4, 4, 0, 5, 1, 1, 1, 0, 6, 0, 2, 5, 4, 5, 6, 6, 1,\n",
              "        3, 5, 2, 5], device='cuda:0')"
            ]
          },
          "metadata": {},
          "execution_count": 27
        }
      ]
    },
    {
      "cell_type": "code",
      "metadata": {
        "colab": {
          "base_uri": "https://localhost:8080/"
        },
        "id": "njqPLcUjTsKv",
        "outputId": "b1c59fe3-202e-4b0f-8b05-46a8150d716c"
      },
      "source": [
        "y_test.reshape(-1)"
      ],
      "execution_count": null,
      "outputs": [
        {
          "output_type": "execute_result",
          "data": {
            "text/plain": [
              "tensor([2, 0, 5, 5, 3, 3, 3, 3, 1, 1, 2, 0, 6, 0, 6, 0, 6, 2, 2, 3, 0, 5, 4, 3,\n",
              "        6, 0, 1, 1, 2, 1, 1, 1, 5, 5, 6, 0, 1, 1, 3, 4, 1, 5, 0, 5, 0, 2, 6, 4,\n",
              "        1, 1, 6, 5, 1, 3, 1, 2, 4, 2, 3, 0, 1, 2, 3, 1, 2, 6, 5, 3, 6, 1, 1, 1,\n",
              "        3, 3, 2, 5, 4, 0, 2, 2, 6, 2, 4, 4, 2, 4, 0, 2, 1, 1, 1, 0, 4, 2, 3, 5,\n",
              "        4, 1, 5, 5, 0, 3, 1, 0, 4, 5, 4, 6, 0, 1, 2, 6, 5, 1, 1, 2, 0, 6, 0, 0,\n",
              "        3, 4, 1, 3, 1, 6, 1, 6, 1, 5, 1, 6, 4, 3, 3, 5, 5, 0, 6, 5, 6, 2, 1, 0,\n",
              "        4, 6, 6, 4, 5, 5, 5, 3, 4, 3, 4, 1, 1, 1, 3, 4, 2, 1, 5, 1, 4, 1, 0, 3,\n",
              "        5, 5, 3, 2, 5, 1, 5, 4, 3, 4, 2, 4, 5, 1, 5, 5, 5, 3, 4, 1, 4, 4, 5, 3,\n",
              "        5, 0, 5, 5, 3, 6, 3, 0, 5, 0, 5, 1, 2, 1, 5, 6, 3, 2, 4, 1, 5, 1, 2, 5,\n",
              "        2, 6, 3, 2, 5, 0, 1, 5, 2, 6, 4, 0, 5, 6, 6, 6, 2, 4, 5, 5, 0, 0, 0, 3,\n",
              "        5, 6, 4, 2, 0, 4, 2, 1, 0, 6, 2, 6, 4, 1, 2, 5, 5, 4, 0, 3, 6, 3, 0, 3,\n",
              "        6, 1, 6, 0, 5, 5, 5, 1, 1, 1, 0, 2, 2, 6, 0, 0, 3, 5, 0, 5, 0, 1, 2, 6,\n",
              "        1, 6, 1, 5, 2, 5, 4, 5, 3, 1, 1, 0, 5, 1, 2, 3, 6, 3, 1, 5, 6, 3, 5, 4,\n",
              "        0, 0, 6, 4, 3, 0, 6, 3, 4, 1, 2, 1, 4, 6, 0, 6, 6, 1, 5, 0, 3, 0, 0, 1,\n",
              "        3, 1, 6, 3, 4, 5, 0, 2, 1, 5, 3, 2, 5, 5, 0, 1, 0, 1, 1, 5, 4, 2, 6, 5,\n",
              "        6, 6, 4, 5, 3, 4, 5, 2, 0, 6, 0, 4, 0, 3, 2, 1, 3, 4, 3, 5, 1, 0, 0, 6,\n",
              "        6, 3, 4, 4, 0, 6, 4, 6, 4, 2, 4, 1, 5, 0, 0, 0, 1, 6, 6, 5, 0, 6, 3, 1,\n",
              "        2, 4, 1, 5, 2, 6, 0, 3, 6, 6, 0, 5, 3, 1, 1, 2, 0, 5, 6, 0, 6, 1, 0, 6,\n",
              "        3, 4, 0, 5, 5, 3, 1, 1, 1, 1, 4, 6, 0, 2, 2, 0, 1, 2, 2, 5, 3, 1, 6, 1,\n",
              "        2, 0, 0, 2, 0, 3, 3, 4, 1, 3, 2, 6, 0, 4, 4, 0, 5, 1, 2, 0, 0, 0, 3, 6,\n",
              "        6, 3, 4, 2, 3, 3, 4, 3, 0, 2, 5, 5, 5, 3, 6, 6, 3, 2, 5, 5, 0, 5, 5, 6,\n",
              "        4, 1, 4, 5, 2, 0, 2, 1, 2, 5, 5, 2, 0, 3, 5, 0, 2, 6, 4, 2, 1, 4, 1, 2,\n",
              "        0, 6, 4, 2, 5, 4, 2, 0, 4, 4, 0, 2, 3, 6, 1, 4, 4, 2, 1, 4, 0, 0, 4, 6,\n",
              "        0, 5, 0, 3, 3, 2, 6, 6, 2, 4, 6, 5, 0, 5, 2, 2, 3, 1, 6, 1, 2, 3, 1, 0,\n",
              "        4, 5, 1, 0, 3, 4, 4, 3, 6, 5, 6, 2, 5, 5, 3, 4, 6, 2, 6, 4, 3, 0, 5, 5,\n",
              "        2, 3, 4, 1, 2, 6, 3, 5, 6, 5, 2, 5, 4, 1, 2, 1, 5, 0, 3, 6, 3, 2, 2, 5,\n",
              "        3, 4, 0, 2, 3, 6, 5, 5, 3, 6, 6, 6, 5, 4, 2, 2, 4, 1, 4, 3, 6, 1, 1, 3,\n",
              "        5, 0, 4, 5, 4, 5, 2, 6, 4, 4, 1, 6, 6, 1, 6, 0, 5, 6, 6, 5, 3, 0, 5, 0,\n",
              "        1, 1, 4, 0, 4, 2, 6, 4, 4, 0, 5, 1, 1, 1, 0, 6, 0, 2, 5, 4, 5, 2, 6, 1,\n",
              "        3, 1, 2, 5], device='cuda:0')"
            ]
          },
          "metadata": {},
          "execution_count": 28
        }
      ]
    },
    {
      "cell_type": "code",
      "metadata": {
        "id": "tLrR_q27Tun8"
      },
      "source": [
        ""
      ],
      "execution_count": null,
      "outputs": []
    }
  ]
}